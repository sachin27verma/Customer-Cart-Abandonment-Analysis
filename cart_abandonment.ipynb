{
  "cells": [
    {
      "cell_type": "markdown",
      "metadata": {
        "colab_type": "text",
        "id": "view-in-github"
      },
      "source": [
        "<a href=\"https://colab.research.google.com/github/ratul442/Customer-Cart-Abandonment-Analysis/blob/main/cart_abandonment.ipynb\" target=\"_parent\"><img src=\"https://colab.research.google.com/assets/colab-badge.svg\" alt=\"Open In Colab\"/></a>"
      ]
    },
    {
      "cell_type": "markdown",
      "metadata": {
        "id": "TfDgdWia2K_N"
      },
      "source": [
        "# Customer Cart Abandonment"
      ]
    },
    {
      "cell_type": "markdown",
      "metadata": {
        "id": "k5nVrEq82K_g"
      },
      "source": [
        "## Introduction\n",
        "Abandonment is an e-commerce term used to describe a visitor on a web page who leaves that page before completing the desired action. Examples of abandonment include shopping cart abandonment, referring to visitors who add items to their online shopping cart, but exit without completing the purchase."
      ]
    },
    {
      "cell_type": "markdown",
      "metadata": {
        "id": "2MbgYg2C9gpu"
      },
      "source": [
        "**The dataset consists of 13 attributes:**\n",
        "\n",
        "ID: The session id of the customer.\n",
        "\n",
        "Is_Product_Details_viewed: Whether the customer is viewing the product details or not.\n",
        "\n",
        "Session_Activity_Count: How many times a customer is going to the different pages.\n",
        "\n",
        "No_Items_Added_InCart: Number of items in cart.\n",
        "\n",
        "No_Items_Removed_FromCart: Number of items removed from the cart.\n",
        "\n",
        "No_Cart_Viewed: How many times the customer is going to the cart page.\n",
        "\n",
        "No_Checkout_Confirmed: How many times the checkout has been confirmed successfully by the customer.\n",
        "\n",
        "No_Checkout_Initiated: How many times the checkout(successful as well as unsuccess) is being done by the user.\n",
        "\n",
        "No_Cart_Items_Viewed: How many times a user is viewing the product from cart.\n",
        "\n",
        "No_Customer_Login: Number of times the customer had did log in.\n",
        "\n",
        "No_Page_Viewed: Number of pages viewed by the customer.\n",
        "Customer_Segment_Type: The customer falls under which category,i.e, 0 for Target Customer, 1 for Loyal Customer, and 2 for Untargeted customer.\n",
        "\n",
        "Cart_Abandoned: Whether the customer is doing cart abandonment or not. This is the target variable that we need to predict."
      ]
    },
    {
      "cell_type": "markdown",
      "metadata": {
        "id": "wEIbMcoQ94BC"
      },
      "source": [
        "**The dataset used in this case is real and was taken from an organization for research purposes. The dataset contains 4284 rows and 13 columns.**"
      ]
    },
    {
      "cell_type": "markdown",
      "metadata": {
        "id": "MC3unqwU2K_h"
      },
      "source": [
        "### Import Libraries"
      ]
    },
    {
      "cell_type": "code",
      "execution_count": 3,
      "metadata": {
        "id": "nmdEPgPH2K_h"
      },
      "outputs": [],
      "source": [
        "import pickle as pkl\n",
        "import pandas as pd\n",
        "import numpy as np\n",
        "import seaborn as sns\n",
        "from imblearn.over_sampling import SMOTE\n",
        "from sklearn.model_selection import train_test_split\n",
        "from sklearn.preprocessing import StandardScaler\n",
        "from sklearn.impute import SimpleImputer\n",
        "from sklearn.metrics import confusion_matrix,accuracy_score,cohen_kappa_score\n",
        "from sklearn.ensemble import RandomForestClassifier\n",
        "from sklearn.preprocessing import MinMaxScaler\n",
        "from scipy.special import boxcox1p\n",
        "from sklearn.feature_selection import RFE\n",
        "from sklearn.linear_model import LogisticRegression\n",
        "import matplotlib.pyplot as plt\n",
        "%matplotlib inline"
      ]
    },
    {
      "cell_type": "markdown",
      "metadata": {
        "id": "KsOO_kN72K_k"
      },
      "source": [
        "## 1. Business Understanding\n",
        "If a customer will visits the webpage then at that time we have to predict whether the customer will do abandonment or not. By doing so, we can give those customers some suitable offers so that cart abandonmet ratio will decrease which in terms increase in profits. \n",
        "There are few questions that we can able to answer by doing analysis:\n",
        "1. If a customer is viewing the product details then what is the chance that he is doing cart abandonment?\n",
        "2. What are the important factors related to cart abandonment?\n",
        "3. How can we able to know whether a customer will do abandonment or not in future?"
      ]
    },
    {
      "cell_type": "markdown",
      "metadata": {
        "id": "7aw7VP8U2K_l"
      },
      "source": [
        "## 2. Data Understanding"
      ]
    },
    {
      "cell_type": "markdown",
      "metadata": {
        "id": "mrxpa0Rx2K_l"
      },
      "source": [
        "### Read Dataset"
      ]
    },
    {
      "cell_type": "code",
      "execution_count": 4,
      "metadata": {
        "colab": {
          "base_uri": "https://localhost:8080/",
          "height": 224
        },
        "id": "BOQOBtAa2K_l",
        "outputId": "dbe6d2a0-12cf-42a4-f8f0-71c31417eb17"
      },
      "outputs": [
        {
          "data": {
            "text/html": [
              "<div>\n",
              "<style scoped>\n",
              "    .dataframe tbody tr th:only-of-type {\n",
              "        vertical-align: middle;\n",
              "    }\n",
              "\n",
              "    .dataframe tbody tr th {\n",
              "        vertical-align: top;\n",
              "    }\n",
              "\n",
              "    .dataframe thead th {\n",
              "        text-align: right;\n",
              "    }\n",
              "</style>\n",
              "<table border=\"1\" class=\"dataframe\">\n",
              "  <thead>\n",
              "    <tr style=\"text-align: right;\">\n",
              "      <th></th>\n",
              "      <th>ID</th>\n",
              "      <th>Is_Product_Details_viewed</th>\n",
              "      <th>Session_Activity_Count</th>\n",
              "      <th>No_Items_Added_InCart</th>\n",
              "      <th>No_Items_Removed_FromCart</th>\n",
              "      <th>No_Cart_Viewed</th>\n",
              "      <th>No_Checkout_Confirmed</th>\n",
              "      <th>No_Checkout_Initiated</th>\n",
              "      <th>No_Cart_Items_Viewed</th>\n",
              "      <th>No_Customer_Login</th>\n",
              "      <th>No_Page_Viewed</th>\n",
              "      <th>Customer_Segment_Type</th>\n",
              "      <th>Cart_Abandoned</th>\n",
              "    </tr>\n",
              "  </thead>\n",
              "  <tbody>\n",
              "    <tr>\n",
              "      <th>0</th>\n",
              "      <td>Session_ID_0</td>\n",
              "      <td>Yes</td>\n",
              "      <td>4</td>\n",
              "      <td>1.0</td>\n",
              "      <td>0</td>\n",
              "      <td>0.0</td>\n",
              "      <td>0</td>\n",
              "      <td>0</td>\n",
              "      <td>1</td>\n",
              "      <td>0</td>\n",
              "      <td>0</td>\n",
              "      <td>0</td>\n",
              "      <td>1</td>\n",
              "    </tr>\n",
              "    <tr>\n",
              "      <th>1</th>\n",
              "      <td>Session_ID_1</td>\n",
              "      <td>No</td>\n",
              "      <td>38</td>\n",
              "      <td>0.0</td>\n",
              "      <td>0</td>\n",
              "      <td>2.0</td>\n",
              "      <td>0</td>\n",
              "      <td>0</td>\n",
              "      <td>2</td>\n",
              "      <td>0</td>\n",
              "      <td>2</td>\n",
              "      <td>0</td>\n",
              "      <td>1</td>\n",
              "    </tr>\n",
              "    <tr>\n",
              "      <th>2</th>\n",
              "      <td>Session_ID_2</td>\n",
              "      <td>No</td>\n",
              "      <td>8</td>\n",
              "      <td>5.0</td>\n",
              "      <td>0</td>\n",
              "      <td>0.0</td>\n",
              "      <td>1</td>\n",
              "      <td>1</td>\n",
              "      <td>1</td>\n",
              "      <td>0</td>\n",
              "      <td>0</td>\n",
              "      <td>1</td>\n",
              "      <td>0</td>\n",
              "    </tr>\n",
              "    <tr>\n",
              "      <th>3</th>\n",
              "      <td>Session_ID_3</td>\n",
              "      <td>No</td>\n",
              "      <td>6</td>\n",
              "      <td>0.0</td>\n",
              "      <td>0</td>\n",
              "      <td>2.0</td>\n",
              "      <td>0</td>\n",
              "      <td>0</td>\n",
              "      <td>4</td>\n",
              "      <td>0</td>\n",
              "      <td>0</td>\n",
              "      <td>0</td>\n",
              "      <td>1</td>\n",
              "    </tr>\n",
              "    <tr>\n",
              "      <th>4</th>\n",
              "      <td>Session_ID_4</td>\n",
              "      <td>Yes</td>\n",
              "      <td>31</td>\n",
              "      <td>14.0</td>\n",
              "      <td>12</td>\n",
              "      <td>1.0</td>\n",
              "      <td>0</td>\n",
              "      <td>0</td>\n",
              "      <td>4</td>\n",
              "      <td>0</td>\n",
              "      <td>0</td>\n",
              "      <td>2</td>\n",
              "      <td>1</td>\n",
              "    </tr>\n",
              "  </tbody>\n",
              "</table>\n",
              "</div>"
            ],
            "text/plain": [
              "             ID Is_Product_Details_viewed  Session_Activity_Count  \\\n",
              "0  Session_ID_0                       Yes                       4   \n",
              "1  Session_ID_1                        No                      38   \n",
              "2  Session_ID_2                        No                       8   \n",
              "3  Session_ID_3                        No                       6   \n",
              "4  Session_ID_4                       Yes                      31   \n",
              "\n",
              "   No_Items_Added_InCart  No_Items_Removed_FromCart  No_Cart_Viewed  \\\n",
              "0                    1.0                          0             0.0   \n",
              "1                    0.0                          0             2.0   \n",
              "2                    5.0                          0             0.0   \n",
              "3                    0.0                          0             2.0   \n",
              "4                   14.0                         12             1.0   \n",
              "\n",
              "   No_Checkout_Confirmed  No_Checkout_Initiated   No_Cart_Items_Viewed  \\\n",
              "0                      0                       0                     1   \n",
              "1                      0                       0                     2   \n",
              "2                      1                       1                     1   \n",
              "3                      0                       0                     4   \n",
              "4                      0                       0                     4   \n",
              "\n",
              "   No_Customer_Login  No_Page_Viewed  Customer_Segment_Type  Cart_Abandoned  \n",
              "0                  0               0                      0               1  \n",
              "1                  0               2                      0               1  \n",
              "2                  0               0                      1               0  \n",
              "3                  0               0                      0               1  \n",
              "4                  0               0                      2               1  "
            ]
          },
          "execution_count": 4,
          "metadata": {},
          "output_type": "execute_result"
        }
      ],
      "source": [
        "dataset = pd.read_csv('data_cart_abandonment.csv')\n",
        "dataset.head()"
      ]
    },
    {
      "cell_type": "code",
      "execution_count": 5,
      "metadata": {
        "colab": {
          "base_uri": "https://localhost:8080/"
        },
        "id": "Y2gOb8FF-cYz",
        "outputId": "f9f38e8c-7154-41e6-f666-12534df155d7"
      },
      "outputs": [
        {
          "data": {
            "text/html": [
              "<div>\n",
              "<style scoped>\n",
              "    .dataframe tbody tr th:only-of-type {\n",
              "        vertical-align: middle;\n",
              "    }\n",
              "\n",
              "    .dataframe tbody tr th {\n",
              "        vertical-align: top;\n",
              "    }\n",
              "\n",
              "    .dataframe thead th {\n",
              "        text-align: right;\n",
              "    }\n",
              "</style>\n",
              "<table border=\"1\" class=\"dataframe\">\n",
              "  <thead>\n",
              "    <tr style=\"text-align: right;\">\n",
              "      <th></th>\n",
              "      <th>ID</th>\n",
              "      <th>Is_Product_Details_viewed</th>\n",
              "      <th>Session_Activity_Count</th>\n",
              "      <th>No_Items_Added_InCart</th>\n",
              "      <th>No_Items_Removed_FromCart</th>\n",
              "      <th>No_Cart_Viewed</th>\n",
              "      <th>No_Checkout_Confirmed</th>\n",
              "      <th>No_Checkout_Initiated</th>\n",
              "      <th>No_Cart_Items_Viewed</th>\n",
              "      <th>No_Customer_Login</th>\n",
              "      <th>No_Page_Viewed</th>\n",
              "      <th>Customer_Segment_Type</th>\n",
              "      <th>Cart_Abandoned</th>\n",
              "    </tr>\n",
              "  </thead>\n",
              "  <tbody>\n",
              "    <tr>\n",
              "      <th>0</th>\n",
              "      <td>Session_ID_0</td>\n",
              "      <td>Yes</td>\n",
              "      <td>4</td>\n",
              "      <td>1.0</td>\n",
              "      <td>0</td>\n",
              "      <td>0.0</td>\n",
              "      <td>0</td>\n",
              "      <td>0</td>\n",
              "      <td>1</td>\n",
              "      <td>0</td>\n",
              "      <td>0</td>\n",
              "      <td>0</td>\n",
              "      <td>1</td>\n",
              "    </tr>\n",
              "    <tr>\n",
              "      <th>1</th>\n",
              "      <td>Session_ID_1</td>\n",
              "      <td>No</td>\n",
              "      <td>38</td>\n",
              "      <td>0.0</td>\n",
              "      <td>0</td>\n",
              "      <td>2.0</td>\n",
              "      <td>0</td>\n",
              "      <td>0</td>\n",
              "      <td>2</td>\n",
              "      <td>0</td>\n",
              "      <td>2</td>\n",
              "      <td>0</td>\n",
              "      <td>1</td>\n",
              "    </tr>\n",
              "    <tr>\n",
              "      <th>2</th>\n",
              "      <td>Session_ID_2</td>\n",
              "      <td>No</td>\n",
              "      <td>8</td>\n",
              "      <td>5.0</td>\n",
              "      <td>0</td>\n",
              "      <td>0.0</td>\n",
              "      <td>1</td>\n",
              "      <td>1</td>\n",
              "      <td>1</td>\n",
              "      <td>0</td>\n",
              "      <td>0</td>\n",
              "      <td>1</td>\n",
              "      <td>0</td>\n",
              "    </tr>\n",
              "    <tr>\n",
              "      <th>3</th>\n",
              "      <td>Session_ID_3</td>\n",
              "      <td>No</td>\n",
              "      <td>6</td>\n",
              "      <td>0.0</td>\n",
              "      <td>0</td>\n",
              "      <td>2.0</td>\n",
              "      <td>0</td>\n",
              "      <td>0</td>\n",
              "      <td>4</td>\n",
              "      <td>0</td>\n",
              "      <td>0</td>\n",
              "      <td>0</td>\n",
              "      <td>1</td>\n",
              "    </tr>\n",
              "    <tr>\n",
              "      <th>4</th>\n",
              "      <td>Session_ID_4</td>\n",
              "      <td>Yes</td>\n",
              "      <td>31</td>\n",
              "      <td>14.0</td>\n",
              "      <td>12</td>\n",
              "      <td>1.0</td>\n",
              "      <td>0</td>\n",
              "      <td>0</td>\n",
              "      <td>4</td>\n",
              "      <td>0</td>\n",
              "      <td>0</td>\n",
              "      <td>2</td>\n",
              "      <td>1</td>\n",
              "    </tr>\n",
              "  </tbody>\n",
              "</table>\n",
              "</div>"
            ],
            "text/plain": [
              "             ID Is_Product_Details_viewed  Session_Activity_Count  \\\n",
              "0  Session_ID_0                       Yes                       4   \n",
              "1  Session_ID_1                        No                      38   \n",
              "2  Session_ID_2                        No                       8   \n",
              "3  Session_ID_3                        No                       6   \n",
              "4  Session_ID_4                       Yes                      31   \n",
              "\n",
              "   No_Items_Added_InCart  No_Items_Removed_FromCart  No_Cart_Viewed  \\\n",
              "0                    1.0                          0             0.0   \n",
              "1                    0.0                          0             2.0   \n",
              "2                    5.0                          0             0.0   \n",
              "3                    0.0                          0             2.0   \n",
              "4                   14.0                         12             1.0   \n",
              "\n",
              "   No_Checkout_Confirmed  No_Checkout_Initiated   No_Cart_Items_Viewed  \\\n",
              "0                      0                       0                     1   \n",
              "1                      0                       0                     2   \n",
              "2                      1                       1                     1   \n",
              "3                      0                       0                     4   \n",
              "4                      0                       0                     4   \n",
              "\n",
              "   No_Customer_Login  No_Page_Viewed  Customer_Segment_Type  Cart_Abandoned  \n",
              "0                  0               0                      0               1  \n",
              "1                  0               2                      0               1  \n",
              "2                  0               0                      1               0  \n",
              "3                  0               0                      0               1  \n",
              "4                  0               0                      2               1  "
            ]
          },
          "execution_count": 5,
          "metadata": {},
          "output_type": "execute_result"
        }
      ],
      "source": [
        "dataset.shape\n",
        "dataset.drop(['Session_Activity_Count'],axis=1)\n",
        "dataset.head()"
      ]
    },
    {
      "cell_type": "code",
      "execution_count": 6,
      "metadata": {
        "colab": {
          "base_uri": "https://localhost:8080/"
        },
        "id": "PESxBKR42K_m",
        "outputId": "93bc6e33-df35-4a74-951c-bed798c87fe4"
      },
      "outputs": [
        {
          "data": {
            "text/plain": [
              "ID                            object\n",
              "Is_Product_Details_viewed     object\n",
              "Session_Activity_Count         int64\n",
              "No_Items_Added_InCart        float64\n",
              "No_Items_Removed_FromCart      int64\n",
              "No_Cart_Viewed               float64\n",
              "No_Checkout_Confirmed          int64\n",
              "No_Checkout_Initiated          int64\n",
              "No_Cart_Items_Viewed           int64\n",
              "No_Customer_Login              int64\n",
              "No_Page_Viewed                 int64\n",
              "Customer_Segment_Type          int64\n",
              "Cart_Abandoned                 int64\n",
              "dtype: object"
            ]
          },
          "execution_count": 6,
          "metadata": {},
          "output_type": "execute_result"
        }
      ],
      "source": [
        "dataset.dtypes"
      ]
    },
    {
      "cell_type": "code",
      "execution_count": 7,
      "metadata": {
        "colab": {
          "base_uri": "https://localhost:8080/"
        },
        "id": "jBMrlpQI-fOW",
        "outputId": "6a68728c-a664-4b36-9a77-67de90e04069"
      },
      "outputs": [
        {
          "name": "stdout",
          "output_type": "stream",
          "text": [
            "<class 'pandas.core.frame.DataFrame'>\n",
            "RangeIndex: 4284 entries, 0 to 4283\n",
            "Data columns (total 13 columns):\n",
            " #   Column                     Non-Null Count  Dtype  \n",
            "---  ------                     --------------  -----  \n",
            " 0   ID                         4284 non-null   object \n",
            " 1   Is_Product_Details_viewed  4284 non-null   object \n",
            " 2   Session_Activity_Count     4284 non-null   int64  \n",
            " 3   No_Items_Added_InCart      4275 non-null   float64\n",
            " 4   No_Items_Removed_FromCart  4284 non-null   int64  \n",
            " 5   No_Cart_Viewed             4275 non-null   float64\n",
            " 6   No_Checkout_Confirmed      4284 non-null   int64  \n",
            " 7   No_Checkout_Initiated      4284 non-null   int64  \n",
            " 8   No_Cart_Items_Viewed       4284 non-null   int64  \n",
            " 9   No_Customer_Login          4284 non-null   int64  \n",
            " 10  No_Page_Viewed             4284 non-null   int64  \n",
            " 11  Customer_Segment_Type      4284 non-null   int64  \n",
            " 12  Cart_Abandoned             4284 non-null   int64  \n",
            "dtypes: float64(2), int64(9), object(2)\n",
            "memory usage: 435.2+ KB\n"
          ]
        }
      ],
      "source": [
        "dataset.info()"
      ]
    },
    {
      "cell_type": "code",
      "execution_count": 8,
      "metadata": {
        "colab": {
          "base_uri": "https://localhost:8080/",
          "height": 317
        },
        "id": "wcTUGQcp-aIK",
        "outputId": "84330a5e-0525-44a9-95d0-7e203e8d77f5"
      },
      "outputs": [
        {
          "data": {
            "text/html": [
              "<div>\n",
              "<style scoped>\n",
              "    .dataframe tbody tr th:only-of-type {\n",
              "        vertical-align: middle;\n",
              "    }\n",
              "\n",
              "    .dataframe tbody tr th {\n",
              "        vertical-align: top;\n",
              "    }\n",
              "\n",
              "    .dataframe thead th {\n",
              "        text-align: right;\n",
              "    }\n",
              "</style>\n",
              "<table border=\"1\" class=\"dataframe\">\n",
              "  <thead>\n",
              "    <tr style=\"text-align: right;\">\n",
              "      <th></th>\n",
              "      <th>Session_Activity_Count</th>\n",
              "      <th>No_Items_Added_InCart</th>\n",
              "      <th>No_Items_Removed_FromCart</th>\n",
              "      <th>No_Cart_Viewed</th>\n",
              "      <th>No_Checkout_Confirmed</th>\n",
              "      <th>No_Checkout_Initiated</th>\n",
              "      <th>No_Cart_Items_Viewed</th>\n",
              "      <th>No_Customer_Login</th>\n",
              "      <th>No_Page_Viewed</th>\n",
              "      <th>Customer_Segment_Type</th>\n",
              "      <th>Cart_Abandoned</th>\n",
              "    </tr>\n",
              "  </thead>\n",
              "  <tbody>\n",
              "    <tr>\n",
              "      <th>count</th>\n",
              "      <td>4284.000000</td>\n",
              "      <td>4275.000000</td>\n",
              "      <td>4284.000000</td>\n",
              "      <td>4275.000000</td>\n",
              "      <td>4284.000000</td>\n",
              "      <td>4284.000000</td>\n",
              "      <td>4284.000000</td>\n",
              "      <td>4284.000000</td>\n",
              "      <td>4284.000000</td>\n",
              "      <td>4284.000000</td>\n",
              "      <td>4284.000000</td>\n",
              "    </tr>\n",
              "    <tr>\n",
              "      <th>mean</th>\n",
              "      <td>13.878151</td>\n",
              "      <td>3.488421</td>\n",
              "      <td>0.867180</td>\n",
              "      <td>1.444211</td>\n",
              "      <td>0.187208</td>\n",
              "      <td>0.980159</td>\n",
              "      <td>2.295985</td>\n",
              "      <td>0.169234</td>\n",
              "      <td>2.348506</td>\n",
              "      <td>0.563259</td>\n",
              "      <td>0.856209</td>\n",
              "    </tr>\n",
              "    <tr>\n",
              "      <th>std</th>\n",
              "      <td>15.934084</td>\n",
              "      <td>6.789401</td>\n",
              "      <td>3.070022</td>\n",
              "      <td>2.082496</td>\n",
              "      <td>0.517691</td>\n",
              "      <td>1.140525</td>\n",
              "      <td>6.052666</td>\n",
              "      <td>0.400299</td>\n",
              "      <td>2.868862</td>\n",
              "      <td>0.703856</td>\n",
              "      <td>0.350918</td>\n",
              "    </tr>\n",
              "    <tr>\n",
              "      <th>min</th>\n",
              "      <td>0.000000</td>\n",
              "      <td>0.000000</td>\n",
              "      <td>0.000000</td>\n",
              "      <td>0.000000</td>\n",
              "      <td>0.000000</td>\n",
              "      <td>0.000000</td>\n",
              "      <td>0.000000</td>\n",
              "      <td>0.000000</td>\n",
              "      <td>0.000000</td>\n",
              "      <td>0.000000</td>\n",
              "      <td>0.000000</td>\n",
              "    </tr>\n",
              "    <tr>\n",
              "      <th>25%</th>\n",
              "      <td>6.000000</td>\n",
              "      <td>1.000000</td>\n",
              "      <td>0.000000</td>\n",
              "      <td>0.000000</td>\n",
              "      <td>0.000000</td>\n",
              "      <td>0.000000</td>\n",
              "      <td>1.000000</td>\n",
              "      <td>0.000000</td>\n",
              "      <td>1.000000</td>\n",
              "      <td>0.000000</td>\n",
              "      <td>1.000000</td>\n",
              "    </tr>\n",
              "    <tr>\n",
              "      <th>50%</th>\n",
              "      <td>10.000000</td>\n",
              "      <td>2.000000</td>\n",
              "      <td>0.000000</td>\n",
              "      <td>1.000000</td>\n",
              "      <td>0.000000</td>\n",
              "      <td>1.000000</td>\n",
              "      <td>1.000000</td>\n",
              "      <td>0.000000</td>\n",
              "      <td>2.000000</td>\n",
              "      <td>0.000000</td>\n",
              "      <td>1.000000</td>\n",
              "    </tr>\n",
              "    <tr>\n",
              "      <th>75%</th>\n",
              "      <td>17.000000</td>\n",
              "      <td>5.000000</td>\n",
              "      <td>0.000000</td>\n",
              "      <td>2.000000</td>\n",
              "      <td>0.000000</td>\n",
              "      <td>1.000000</td>\n",
              "      <td>2.000000</td>\n",
              "      <td>0.000000</td>\n",
              "      <td>3.000000</td>\n",
              "      <td>1.000000</td>\n",
              "      <td>1.000000</td>\n",
              "    </tr>\n",
              "    <tr>\n",
              "      <th>max</th>\n",
              "      <td>436.000000</td>\n",
              "      <td>225.000000</td>\n",
              "      <td>50.000000</td>\n",
              "      <td>34.000000</td>\n",
              "      <td>11.000000</td>\n",
              "      <td>14.000000</td>\n",
              "      <td>256.000000</td>\n",
              "      <td>3.000000</td>\n",
              "      <td>35.000000</td>\n",
              "      <td>2.000000</td>\n",
              "      <td>1.000000</td>\n",
              "    </tr>\n",
              "  </tbody>\n",
              "</table>\n",
              "</div>"
            ],
            "text/plain": [
              "       Session_Activity_Count  No_Items_Added_InCart  \\\n",
              "count             4284.000000            4275.000000   \n",
              "mean                13.878151               3.488421   \n",
              "std                 15.934084               6.789401   \n",
              "min                  0.000000               0.000000   \n",
              "25%                  6.000000               1.000000   \n",
              "50%                 10.000000               2.000000   \n",
              "75%                 17.000000               5.000000   \n",
              "max                436.000000             225.000000   \n",
              "\n",
              "       No_Items_Removed_FromCart  No_Cart_Viewed  No_Checkout_Confirmed  \\\n",
              "count                4284.000000     4275.000000            4284.000000   \n",
              "mean                    0.867180        1.444211               0.187208   \n",
              "std                     3.070022        2.082496               0.517691   \n",
              "min                     0.000000        0.000000               0.000000   \n",
              "25%                     0.000000        0.000000               0.000000   \n",
              "50%                     0.000000        1.000000               0.000000   \n",
              "75%                     0.000000        2.000000               0.000000   \n",
              "max                    50.000000       34.000000              11.000000   \n",
              "\n",
              "       No_Checkout_Initiated   No_Cart_Items_Viewed  No_Customer_Login  \\\n",
              "count             4284.000000           4284.000000        4284.000000   \n",
              "mean                 0.980159              2.295985           0.169234   \n",
              "std                  1.140525              6.052666           0.400299   \n",
              "min                  0.000000              0.000000           0.000000   \n",
              "25%                  0.000000              1.000000           0.000000   \n",
              "50%                  1.000000              1.000000           0.000000   \n",
              "75%                  1.000000              2.000000           0.000000   \n",
              "max                 14.000000            256.000000           3.000000   \n",
              "\n",
              "       No_Page_Viewed  Customer_Segment_Type  Cart_Abandoned  \n",
              "count     4284.000000            4284.000000     4284.000000  \n",
              "mean         2.348506               0.563259        0.856209  \n",
              "std          2.868862               0.703856        0.350918  \n",
              "min          0.000000               0.000000        0.000000  \n",
              "25%          1.000000               0.000000        1.000000  \n",
              "50%          2.000000               0.000000        1.000000  \n",
              "75%          3.000000               1.000000        1.000000  \n",
              "max         35.000000               2.000000        1.000000  "
            ]
          },
          "execution_count": 8,
          "metadata": {},
          "output_type": "execute_result"
        }
      ],
      "source": [
        "dataset.describe()"
      ]
    },
    {
      "cell_type": "code",
      "execution_count": 9,
      "metadata": {
        "colab": {
          "base_uri": "https://localhost:8080/"
        },
        "id": "2rdWe5tg2K_m",
        "outputId": "8a7387a0-c669-4c53-a348-1c189732065c"
      },
      "outputs": [
        {
          "data": {
            "text/plain": [
              "CategoricalDtype(categories=[0, 1], ordered=False, categories_dtype=int64)"
            ]
          },
          "execution_count": 9,
          "metadata": {},
          "output_type": "execute_result"
        }
      ],
      "source": [
        "dataset.Cart_Abandoned=pd.Categorical(dataset.Cart_Abandoned)\n",
        "dataset.Cart_Abandoned.dtypes"
      ]
    },
    {
      "cell_type": "code",
      "execution_count": 10,
      "metadata": {
        "id": "9vbRyIL62K_n"
      },
      "outputs": [],
      "source": [
        "dataset.Customer_Segment_Type=pd.Categorical(dataset.Customer_Segment_Type)"
      ]
    },
    {
      "cell_type": "code",
      "execution_count": 11,
      "metadata": {
        "colab": {
          "base_uri": "https://localhost:8080/"
        },
        "id": "H3kJWR582K_n",
        "outputId": "5dcb177b-fd6f-4c07-ea21-eab98c6f1c16"
      },
      "outputs": [
        {
          "data": {
            "text/plain": [
              "ID                             object\n",
              "Is_Product_Details_viewed      object\n",
              "Session_Activity_Count          int64\n",
              "No_Items_Added_InCart         float64\n",
              "No_Items_Removed_FromCart       int64\n",
              "No_Cart_Viewed                float64\n",
              "No_Checkout_Confirmed           int64\n",
              "No_Checkout_Initiated           int64\n",
              "No_Cart_Items_Viewed            int64\n",
              "No_Customer_Login               int64\n",
              "No_Page_Viewed                  int64\n",
              "Customer_Segment_Type        category\n",
              "Cart_Abandoned               category\n",
              "dtype: object"
            ]
          },
          "execution_count": 11,
          "metadata": {},
          "output_type": "execute_result"
        }
      ],
      "source": [
        "dataset.dtypes"
      ]
    },
    {
      "cell_type": "code",
      "execution_count": 12,
      "metadata": {
        "colab": {
          "base_uri": "https://localhost:8080/",
          "height": 351
        },
        "id": "8VAHNrbG2K_n",
        "outputId": "9f9a8d69-36b4-4951-b2d3-14915ed55a3e"
      },
      "outputs": [],
      "source": [
        "# sns.countplot(dataset.Cart_Abandoned)"
      ]
    },
    {
      "cell_type": "markdown",
      "metadata": {
        "id": "wlf2FEyJ2K_o"
      },
      "source": [
        "### EDA###########"
      ]
    },
    {
      "cell_type": "markdown",
      "metadata": {
        "id": "Y-JFIBTj2K_o"
      },
      "source": [
        "##### Univariate#####"
      ]
    },
    {
      "cell_type": "code",
      "execution_count": 13,
      "metadata": {
        "id": "0yuO0O5p2K_o"
      },
      "outputs": [],
      "source": [
        "num=dataset.select_dtypes(include=[\"float64\",\"int64\"])\n",
        "cat=dataset.select_dtypes(include=[\"object\",\"category\"]).drop([\"ID\"],axis=1)"
      ]
    },
    {
      "cell_type": "code",
      "execution_count": 14,
      "metadata": {
        "colab": {
          "base_uri": "https://localhost:8080/"
        },
        "id": "iTJN8rm92K_p",
        "outputId": "9151abaa-893b-420d-a9ed-6f72360d86a6"
      },
      "outputs": [
        {
          "data": {
            "text/plain": [
              "(4284, 9)"
            ]
          },
          "execution_count": 14,
          "metadata": {},
          "output_type": "execute_result"
        }
      ],
      "source": [
        "num.shape"
      ]
    },
    {
      "cell_type": "code",
      "execution_count": 15,
      "metadata": {
        "colab": {
          "base_uri": "https://localhost:8080/",
          "height": 320
        },
        "id": "a9YRMXkI2K_p",
        "outputId": "0b244eec-d45a-45f3-ef75-f19db4a6d0c7"
      },
      "outputs": [],
      "source": [
        "# num.hist(bins=15, figsize=(20, 6), layout=(2, 5));"
      ]
    },
    {
      "cell_type": "code",
      "execution_count": 16,
      "metadata": {
        "colab": {
          "base_uri": "https://localhost:8080/",
          "height": 403
        },
        "id": "GxHjyQYn2K_p",
        "outputId": "b8526329-b2e9-4881-9ac9-d179b4360397"
      },
      "outputs": [
        {
          "data": {
            "image/png": "[encoded data removed]",
            "text/plain": [
              "<Figure size 2000x800 with 3 Axes>"
            ]
          },
          "metadata": {},
          "output_type": "display_data"
        }
      ],
      "source": [
        "f, ax = plt.subplots(nrows=1,ncols=3,figsize=(20, 8))\n",
        "for i,j in zip(cat.columns.tolist(), ax.flatten()):\n",
        "    sns.countplot(x=cat[i],ax=j)"
      ]
    },
    {
      "cell_type": "markdown",
      "metadata": {
        "id": "es0lU3Q-2K_q"
      },
      "source": [
        "##### BiVariate#####"
      ]
    },
    {
      "cell_type": "code",
      "execution_count": null,
      "metadata": {},
      "outputs": [],
      "source": []
    },
    {
      "cell_type": "markdown",
      "metadata": {
        "id": "bYxQsTkX2K_q"
      },
      "source": [
        "#### Part 1 : If a customer is viewing the product details then what is the chance that he is doing cart abandonment?"
      ]
    },
    {
      "cell_type": "markdown",
      "metadata": {
        "id": "XuyztGlV2K_q"
      },
      "source": [
        "###### 1.FOR CATEGORICAL :Is_Product_Details_viewed Vrs Cart_Abandoned"
      ]
    },
    {
      "cell_type": "code",
      "execution_count": 17,
      "metadata": {
        "colab": {
          "base_uri": "https://localhost:8080/",
          "height": 0
        },
        "id": "DuXIr8B62K_r",
        "outputId": "0cbddf1d-5d56-4946-e150-dcfbed0ff17a"
      },
      "outputs": [],
      "source": [
        "# sns.countplot(x=dataset.Is_Product_Details_viewed,hue=dataset.Cart_Abandoned)"
      ]
    },
    {
      "cell_type": "markdown",
      "metadata": {
        "id": "D6Bds5xj2K_r"
      },
      "source": [
        "##### 2.1 FOR NUMERICAL : Numerical Attributes Vrs Cart_Abandoned : By BoxPlot"
      ]
    },
    {
      "cell_type": "code",
      "execution_count": 18,
      "metadata": {
        "colab": {
          "base_uri": "https://localhost:8080/",
          "height": 0
        },
        "id": "fqPlzRQ02K_r",
        "outputId": "6059bea9-882e-47b9-c01c-b3fd87ce2c52"
      },
      "outputs": [],
      "source": [
        "# fig, ax = plt.subplots(2, 5, figsize=(20, 10))\n",
        "# for var, subplot in zip(num.columns.tolist(), ax.flatten()):\n",
        "#     sns.boxplot(x=cat[\"Cart_Abandoned\"], y=num[var], ax=subplot)"
      ]
    },
    {
      "cell_type": "markdown",
      "metadata": {
        "id": "qUIiOKJI2K_s"
      },
      "source": [
        "##### 2.2 Correlation plot of Independent attributes"
      ]
    },
    {
      "cell_type": "code",
      "execution_count": 19,
      "metadata": {
        "colab": {
          "base_uri": "https://localhost:8080/",
          "height": 0
        },
        "id": "2RnxbSyY2K_s",
        "outputId": "0f5d4c92-283c-49b3-f262-99fc9b85928f"
      },
      "outputs": [],
      "source": [
        "# corr = num.corr()\n",
        "# sns.heatmap(corr)"
      ]
    },
    {
      "cell_type": "markdown",
      "metadata": {
        "id": "F9KfIUXT2K_s"
      },
      "source": [
        "## 3. Data Preparation"
      ]
    },
    {
      "cell_type": "markdown",
      "metadata": {
        "id": "h6zPIDQq2K_t"
      },
      "source": [
        "###### imputing missing values wherever needed"
      ]
    },
    {
      "cell_type": "code",
      "execution_count": 20,
      "metadata": {
        "id": "nJT8eDBG2K_t"
      },
      "outputs": [],
      "source": [
        "data = dataset.copy()"
      ]
    },
    {
      "cell_type": "code",
      "execution_count": 21,
      "metadata": {
        "colab": {
          "base_uri": "https://localhost:8080/"
        },
        "id": "ul8Dpkau2K_u",
        "outputId": "18eb8bd5-4c26-4baa-fcca-5e9af5cccbd2"
      },
      "outputs": [
        {
          "data": {
            "text/plain": [
              "ID                           0\n",
              "Is_Product_Details_viewed    0\n",
              "Session_Activity_Count       0\n",
              "No_Items_Added_InCart        9\n",
              "No_Items_Removed_FromCart    0\n",
              "No_Cart_Viewed               9\n",
              "No_Checkout_Confirmed        0\n",
              "No_Checkout_Initiated        0\n",
              "No_Cart_Items_Viewed         0\n",
              "No_Customer_Login            0\n",
              "No_Page_Viewed               0\n",
              "Customer_Segment_Type        0\n",
              "Cart_Abandoned               0\n",
              "dtype: int64"
            ]
          },
          "execution_count": 21,
          "metadata": {},
          "output_type": "execute_result"
        }
      ],
      "source": [
        "data.isna().sum()"
      ]
    },
    {
      "cell_type": "code",
      "execution_count": 22,
      "metadata": {
        "colab": {
          "base_uri": "https://localhost:8080/"
        },
        "id": "E0E93wyh2K_w",
        "outputId": "9f801b00-a211-41a4-f7b9-f58bb39da3be"
      },
      "outputs": [
        {
          "data": {
            "text/plain": [
              "['No_Items_Added_InCart', 'No_Cart_Viewed']"
            ]
          },
          "execution_count": 22,
          "metadata": {},
          "output_type": "execute_result"
        }
      ],
      "source": [
        "null_col = data.columns[data.isna().any()].tolist()\n",
        "null_col"
      ]
    },
    {
      "cell_type": "code",
      "execution_count": 23,
      "metadata": {
        "colab": {
          "base_uri": "https://localhost:8080/",
          "height": 204
        },
        "id": "SWPPre9S2K_w",
        "outputId": "1ee62678-932d-4e97-c8bc-8ab32f243785",
        "scrolled": true
      },
      "outputs": [
        {
          "data": {
            "text/html": [
              "<div>\n",
              "<style scoped>\n",
              "    .dataframe tbody tr th:only-of-type {\n",
              "        vertical-align: middle;\n",
              "    }\n",
              "\n",
              "    .dataframe tbody tr th {\n",
              "        vertical-align: top;\n",
              "    }\n",
              "\n",
              "    .dataframe thead th {\n",
              "        text-align: right;\n",
              "    }\n",
              "</style>\n",
              "<table border=\"1\" class=\"dataframe\">\n",
              "  <thead>\n",
              "    <tr style=\"text-align: right;\">\n",
              "      <th></th>\n",
              "      <th>No_Items_Added_InCart</th>\n",
              "      <th>No_Cart_Viewed</th>\n",
              "    </tr>\n",
              "  </thead>\n",
              "  <tbody>\n",
              "    <tr>\n",
              "      <th>0</th>\n",
              "      <td>1.0</td>\n",
              "      <td>0.0</td>\n",
              "    </tr>\n",
              "    <tr>\n",
              "      <th>1</th>\n",
              "      <td>0.0</td>\n",
              "      <td>2.0</td>\n",
              "    </tr>\n",
              "    <tr>\n",
              "      <th>2</th>\n",
              "      <td>5.0</td>\n",
              "      <td>0.0</td>\n",
              "    </tr>\n",
              "    <tr>\n",
              "      <th>3</th>\n",
              "      <td>0.0</td>\n",
              "      <td>2.0</td>\n",
              "    </tr>\n",
              "    <tr>\n",
              "      <th>4</th>\n",
              "      <td>14.0</td>\n",
              "      <td>1.0</td>\n",
              "    </tr>\n",
              "  </tbody>\n",
              "</table>\n",
              "</div>"
            ],
            "text/plain": [
              "   No_Items_Added_InCart  No_Cart_Viewed\n",
              "0                    1.0             0.0\n",
              "1                    0.0             2.0\n",
              "2                    5.0             0.0\n",
              "3                    0.0             2.0\n",
              "4                   14.0             1.0"
            ]
          },
          "execution_count": 23,
          "metadata": {},
          "output_type": "execute_result"
        }
      ],
      "source": [
        "data[null_col].head()"
      ]
    },
    {
      "cell_type": "code",
      "execution_count": 24,
      "metadata": {
        "colab": {
          "base_uri": "https://localhost:8080/"
        },
        "id": "pTe44N8Y2K_x",
        "outputId": "74b436ef-c573-4a45-fa0d-d6d67c1079ec"
      },
      "outputs": [
        {
          "data": {
            "text/plain": [
              "ID                           0\n",
              "Is_Product_Details_viewed    0\n",
              "Session_Activity_Count       0\n",
              "No_Items_Added_InCart        9\n",
              "No_Items_Removed_FromCart    0\n",
              "No_Cart_Viewed               9\n",
              "No_Checkout_Confirmed        0\n",
              "No_Checkout_Initiated        0\n",
              "No_Cart_Items_Viewed         0\n",
              "No_Customer_Login            0\n",
              "No_Page_Viewed               0\n",
              "Customer_Segment_Type        0\n",
              "Cart_Abandoned               0\n",
              "dtype: int64"
            ]
          },
          "execution_count": 24,
          "metadata": {},
          "output_type": "execute_result"
        }
      ],
      "source": [
        "data.isna().sum()"
      ]
    },
    {
      "cell_type": "code",
      "execution_count": 25,
      "metadata": {
        "colab": {
          "base_uri": "https://localhost:8080/"
        },
        "id": "Ct5onTEs2K_x",
        "outputId": "a3ce61a8-c7fb-47b4-977f-e51f01721dc5"
      },
      "outputs": [
        {
          "data": {
            "text/plain": [
              "ID                             object\n",
              "Is_Product_Details_viewed      object\n",
              "Session_Activity_Count          int64\n",
              "No_Items_Added_InCart         float64\n",
              "No_Items_Removed_FromCart       int64\n",
              "No_Cart_Viewed                float64\n",
              "No_Checkout_Confirmed           int64\n",
              "No_Checkout_Initiated           int64\n",
              "No_Cart_Items_Viewed            int64\n",
              "No_Customer_Login               int64\n",
              "No_Page_Viewed                  int64\n",
              "Customer_Segment_Type        category\n",
              "Cart_Abandoned               category\n",
              "dtype: object"
            ]
          },
          "execution_count": 25,
          "metadata": {},
          "output_type": "execute_result"
        }
      ],
      "source": [
        "data.dtypes"
      ]
    },
    {
      "cell_type": "code",
      "execution_count": 26,
      "metadata": {
        "id": "-G2gJaU_7TEd"
      },
      "outputs": [],
      "source": [
        "data['No_Items_Added_InCart'] = data['No_Items_Added_InCart'].fillna(data['No_Items_Added_InCart'].mean()) "
      ]
    },
    {
      "cell_type": "code",
      "execution_count": 27,
      "metadata": {
        "id": "oYulrR7f7fkW"
      },
      "outputs": [],
      "source": [
        "data['No_Cart_Viewed'] = data['No_Cart_Viewed'].fillna(data['No_Cart_Viewed'].mean()) "
      ]
    },
    {
      "cell_type": "code",
      "execution_count": 28,
      "metadata": {
        "id": "oSzWcCRQ2K_x"
      },
      "outputs": [],
      "source": [
        "data[null_col] = data[null_col].astype(\"int64\")"
      ]
    },
    {
      "cell_type": "code",
      "execution_count": 29,
      "metadata": {
        "colab": {
          "base_uri": "https://localhost:8080/"
        },
        "id": "BFL-thI42K_y",
        "outputId": "d3f03daa-ed61-455b-c3e9-b96c33ae0580"
      },
      "outputs": [
        {
          "data": {
            "text/plain": [
              "ID                           0\n",
              "Is_Product_Details_viewed    0\n",
              "Session_Activity_Count       0\n",
              "No_Items_Added_InCart        0\n",
              "No_Items_Removed_FromCart    0\n",
              "No_Cart_Viewed               0\n",
              "No_Checkout_Confirmed        0\n",
              "No_Checkout_Initiated        0\n",
              "No_Cart_Items_Viewed         0\n",
              "No_Customer_Login            0\n",
              "No_Page_Viewed               0\n",
              "Customer_Segment_Type        0\n",
              "Cart_Abandoned               0\n",
              "dtype: int64"
            ]
          },
          "execution_count": 29,
          "metadata": {},
          "output_type": "execute_result"
        }
      ],
      "source": [
        "data.isna().sum()"
      ]
    },
    {
      "cell_type": "markdown",
      "metadata": {
        "id": "2D-63wLU2K_y"
      },
      "source": [
        "###### 1.Taking care of Outliers by Normalizing the Data : By MinMax Normalization"
      ]
    },
    {
      "cell_type": "code",
      "execution_count": 30,
      "metadata": {
        "id": "pNgPfHd82K_y"
      },
      "outputs": [],
      "source": [
        "num=data.select_dtypes(include=[\"int64\"])\n",
        "cat=data.select_dtypes(include=[\"object\",\"category\"]).drop([\"ID\"],axis=1)"
      ]
    },
    {
      "cell_type": "code",
      "execution_count": 31,
      "metadata": {},
      "outputs": [
        {
          "data": {
            "text/html": [
              "<div>\n",
              "<style scoped>\n",
              "    .dataframe tbody tr th:only-of-type {\n",
              "        vertical-align: middle;\n",
              "    }\n",
              "\n",
              "    .dataframe tbody tr th {\n",
              "        vertical-align: top;\n",
              "    }\n",
              "\n",
              "    .dataframe thead th {\n",
              "        text-align: right;\n",
              "    }\n",
              "</style>\n",
              "<table border=\"1\" class=\"dataframe\">\n",
              "  <thead>\n",
              "    <tr style=\"text-align: right;\">\n",
              "      <th></th>\n",
              "      <th>Session_Activity_Count</th>\n",
              "      <th>No_Items_Added_InCart</th>\n",
              "      <th>No_Items_Removed_FromCart</th>\n",
              "      <th>No_Cart_Viewed</th>\n",
              "      <th>No_Checkout_Confirmed</th>\n",
              "      <th>No_Checkout_Initiated</th>\n",
              "      <th>No_Cart_Items_Viewed</th>\n",
              "      <th>No_Customer_Login</th>\n",
              "      <th>No_Page_Viewed</th>\n",
              "    </tr>\n",
              "  </thead>\n",
              "  <tbody>\n",
              "    <tr>\n",
              "      <th>0</th>\n",
              "      <td>4</td>\n",
              "      <td>1</td>\n",
              "      <td>0</td>\n",
              "      <td>0</td>\n",
              "      <td>0</td>\n",
              "      <td>0</td>\n",
              "      <td>1</td>\n",
              "      <td>0</td>\n",
              "      <td>0</td>\n",
              "    </tr>\n",
              "    <tr>\n",
              "      <th>1</th>\n",
              "      <td>38</td>\n",
              "      <td>0</td>\n",
              "      <td>0</td>\n",
              "      <td>2</td>\n",
              "      <td>0</td>\n",
              "      <td>0</td>\n",
              "      <td>2</td>\n",
              "      <td>0</td>\n",
              "      <td>2</td>\n",
              "    </tr>\n",
              "    <tr>\n",
              "      <th>2</th>\n",
              "      <td>8</td>\n",
              "      <td>5</td>\n",
              "      <td>0</td>\n",
              "      <td>0</td>\n",
              "      <td>1</td>\n",
              "      <td>1</td>\n",
              "      <td>1</td>\n",
              "      <td>0</td>\n",
              "      <td>0</td>\n",
              "    </tr>\n",
              "    <tr>\n",
              "      <th>3</th>\n",
              "      <td>6</td>\n",
              "      <td>0</td>\n",
              "      <td>0</td>\n",
              "      <td>2</td>\n",
              "      <td>0</td>\n",
              "      <td>0</td>\n",
              "      <td>4</td>\n",
              "      <td>0</td>\n",
              "      <td>0</td>\n",
              "    </tr>\n",
              "    <tr>\n",
              "      <th>4</th>\n",
              "      <td>31</td>\n",
              "      <td>14</td>\n",
              "      <td>12</td>\n",
              "      <td>1</td>\n",
              "      <td>0</td>\n",
              "      <td>0</td>\n",
              "      <td>4</td>\n",
              "      <td>0</td>\n",
              "      <td>0</td>\n",
              "    </tr>\n",
              "  </tbody>\n",
              "</table>\n",
              "</div>"
            ],
            "text/plain": [
              "   Session_Activity_Count  No_Items_Added_InCart  No_Items_Removed_FromCart  \\\n",
              "0                       4                      1                          0   \n",
              "1                      38                      0                          0   \n",
              "2                       8                      5                          0   \n",
              "3                       6                      0                          0   \n",
              "4                      31                     14                         12   \n",
              "\n",
              "   No_Cart_Viewed  No_Checkout_Confirmed  No_Checkout_Initiated   \\\n",
              "0               0                      0                       0   \n",
              "1               2                      0                       0   \n",
              "2               0                      1                       1   \n",
              "3               2                      0                       0   \n",
              "4               1                      0                       0   \n",
              "\n",
              "   No_Cart_Items_Viewed  No_Customer_Login  No_Page_Viewed  \n",
              "0                     1                  0               0  \n",
              "1                     2                  0               2  \n",
              "2                     1                  0               0  \n",
              "3                     4                  0               0  \n",
              "4                     4                  0               0  "
            ]
          },
          "execution_count": 31,
          "metadata": {},
          "output_type": "execute_result"
        }
      ],
      "source": [
        "num.head()"
      ]
    },
    {
      "cell_type": "code",
      "execution_count": 32,
      "metadata": {
        "colab": {
          "base_uri": "https://localhost:8080/"
        },
        "id": "PY94K1-q2K_y",
        "outputId": "4c46a010-72e8-476d-9e96-447ead5bedc4"
      },
      "outputs": [
        {
          "data": {
            "text/plain": [
              "array([[0.00917431, 0.00444444, 0.        , ..., 0.00390625, 0.        ,\n",
              "        0.        ],\n",
              "       [0.08715596, 0.        , 0.        , ..., 0.0078125 , 0.        ,\n",
              "        0.05714286],\n",
              "       [0.01834862, 0.02222222, 0.        , ..., 0.00390625, 0.        ,\n",
              "        0.        ],\n",
              "       ...,\n",
              "       [0.00917431, 0.00444444, 0.        , ..., 0.00390625, 0.        ,\n",
              "        0.        ],\n",
              "       [0.01834862, 0.01333333, 0.        , ..., 0.00390625, 0.        ,\n",
              "        0.05714286],\n",
              "       [0.07110092, 0.01777778, 0.        , ..., 0.02734375, 0.        ,\n",
              "        0.02857143]])"
            ]
          },
          "execution_count": 32,
          "metadata": {},
          "output_type": "execute_result"
        }
      ],
      "source": [
        "min_max_scaler = MinMaxScaler()\n",
        "x_scaled = min_max_scaler.fit_transform(num)\n",
        "x_scaled"
      ]
    },
    {
      "cell_type": "code",
      "execution_count": 33,
      "metadata": {
        "colab": {
          "base_uri": "https://localhost:8080/",
          "height": 162
        },
        "id": "Vt4PcMaJ2K_z",
        "outputId": "e82e5577-be18-4462-8dea-715bab40c334"
      },
      "outputs": [
        {
          "data": {
            "text/html": [
              "<div>\n",
              "<style scoped>\n",
              "    .dataframe tbody tr th:only-of-type {\n",
              "        vertical-align: middle;\n",
              "    }\n",
              "\n",
              "    .dataframe tbody tr th {\n",
              "        vertical-align: top;\n",
              "    }\n",
              "\n",
              "    .dataframe thead th {\n",
              "        text-align: right;\n",
              "    }\n",
              "</style>\n",
              "<table border=\"1\" class=\"dataframe\">\n",
              "  <thead>\n",
              "    <tr style=\"text-align: right;\">\n",
              "      <th></th>\n",
              "      <th>Session_Activity_Count</th>\n",
              "      <th>No_Items_Added_InCart</th>\n",
              "      <th>No_Items_Removed_FromCart</th>\n",
              "      <th>No_Cart_Viewed</th>\n",
              "      <th>No_Checkout_Confirmed</th>\n",
              "      <th>No_Checkout_Initiated</th>\n",
              "      <th>No_Cart_Items_Viewed</th>\n",
              "      <th>No_Customer_Login</th>\n",
              "      <th>No_Page_Viewed</th>\n",
              "    </tr>\n",
              "  </thead>\n",
              "  <tbody>\n",
              "    <tr>\n",
              "      <th>0</th>\n",
              "      <td>0.009174</td>\n",
              "      <td>0.004444</td>\n",
              "      <td>0.0</td>\n",
              "      <td>0.000000</td>\n",
              "      <td>0.000000</td>\n",
              "      <td>0.000000</td>\n",
              "      <td>0.003906</td>\n",
              "      <td>0.0</td>\n",
              "      <td>0.000000</td>\n",
              "    </tr>\n",
              "    <tr>\n",
              "      <th>1</th>\n",
              "      <td>0.087156</td>\n",
              "      <td>0.000000</td>\n",
              "      <td>0.0</td>\n",
              "      <td>0.058824</td>\n",
              "      <td>0.000000</td>\n",
              "      <td>0.000000</td>\n",
              "      <td>0.007812</td>\n",
              "      <td>0.0</td>\n",
              "      <td>0.057143</td>\n",
              "    </tr>\n",
              "    <tr>\n",
              "      <th>2</th>\n",
              "      <td>0.018349</td>\n",
              "      <td>0.022222</td>\n",
              "      <td>0.0</td>\n",
              "      <td>0.000000</td>\n",
              "      <td>0.090909</td>\n",
              "      <td>0.071429</td>\n",
              "      <td>0.003906</td>\n",
              "      <td>0.0</td>\n",
              "      <td>0.000000</td>\n",
              "    </tr>\n",
              "  </tbody>\n",
              "</table>\n",
              "</div>"
            ],
            "text/plain": [
              "   Session_Activity_Count  No_Items_Added_InCart  No_Items_Removed_FromCart  \\\n",
              "0                0.009174               0.004444                        0.0   \n",
              "1                0.087156               0.000000                        0.0   \n",
              "2                0.018349               0.022222                        0.0   \n",
              "\n",
              "   No_Cart_Viewed  No_Checkout_Confirmed  No_Checkout_Initiated   \\\n",
              "0        0.000000               0.000000                0.000000   \n",
              "1        0.058824               0.000000                0.000000   \n",
              "2        0.000000               0.090909                0.071429   \n",
              "\n",
              "   No_Cart_Items_Viewed  No_Customer_Login  No_Page_Viewed  \n",
              "0              0.003906                0.0        0.000000  \n",
              "1              0.007812                0.0        0.057143  \n",
              "2              0.003906                0.0        0.000000  "
            ]
          },
          "execution_count": 33,
          "metadata": {},
          "output_type": "execute_result"
        }
      ],
      "source": [
        "df_scaled = pd.DataFrame(x_scaled,columns=num.columns)\n",
        "df_scaled.head(3)"
      ]
    },
    {
      "cell_type": "code",
      "execution_count": 34,
      "metadata": {
        "colab": {
          "base_uri": "https://localhost:8080/",
          "height": 320
        },
        "id": "wXcbcXKG2K_z",
        "outputId": "0814fee9-df0f-4653-9f68-f2d622e7fbb3"
      },
      "outputs": [],
      "source": [
        "# df_scaled.hist(bins=15, figsize=(20, 6), layout=(2, 5));"
      ]
    },
    {
      "cell_type": "code",
      "execution_count": 35,
      "metadata": {
        "colab": {
          "base_uri": "https://localhost:8080/",
          "height": 478
        },
        "id": "dy8xJvP72K_z",
        "outputId": "5ae1889a-ecc8-4af3-e971-7bb658a7bd71"
      },
      "outputs": [],
      "source": [
        "# fig, ax = plt.subplots(2, 5, figsize=(20, 10))\n",
        "# for var, subplot in zip(df_scaled.columns.tolist(), ax.flatten()):\n",
        "#     sns.boxplot(y=df_scaled[var], ax=subplot)"
      ]
    },
    {
      "cell_type": "markdown",
      "metadata": {
        "id": "Fn7Yk_pU2K_z"
      },
      "source": [
        "###### 2.Taking care of Outliers by Normalizing the Data : By BoxCox Normalization"
      ]
    },
    {
      "cell_type": "code",
      "execution_count": 36,
      "metadata": {
        "id": "dYSF8pzE2K_0"
      },
      "outputs": [],
      "source": [
        "\n",
        "df_scaled_boxcox=boxcox1p(num, 0)\n"
      ]
    },
    {
      "cell_type": "code",
      "execution_count": 37,
      "metadata": {
        "colab": {
          "base_uri": "https://localhost:8080/",
          "height": 478
        },
        "id": "SOQBw0Gz2K_1",
        "outputId": "df60b978-168f-45c1-9b90-3dd778b3f943"
      },
      "outputs": [],
      "source": [
        "# fig, ax = plt.subplots(2, 5, figsize=(20, 10))\n",
        "# for var, subplot in zip(df_scaled_boxcox.columns.tolist(), ax.flatten()):\n",
        "#     sns.boxplot(y=df_scaled_boxcox[var], ax=subplot)"
      ]
    },
    {
      "cell_type": "code",
      "execution_count": 38,
      "metadata": {
        "colab": {
          "base_uri": "https://localhost:8080/",
          "height": 319
        },
        "id": "f6YM1uII2K_2",
        "outputId": "3a9d9103-f2c6-43be-de46-5181d21ffe82"
      },
      "outputs": [],
      "source": [
        "# df_scaled_boxcox.hist(bins=15, figsize=(20, 6), layout=(2, 5));"
      ]
    },
    {
      "cell_type": "code",
      "execution_count": 39,
      "metadata": {
        "colab": {
          "base_uri": "https://localhost:8080/",
          "height": 162
        },
        "id": "TnpZve6l2K_2",
        "outputId": "aba5ed4d-e0b9-4b9f-fed8-33312c4b2dc2"
      },
      "outputs": [
        {
          "data": {
            "text/html": [
              "<div>\n",
              "<style scoped>\n",
              "    .dataframe tbody tr th:only-of-type {\n",
              "        vertical-align: middle;\n",
              "    }\n",
              "\n",
              "    .dataframe tbody tr th {\n",
              "        vertical-align: top;\n",
              "    }\n",
              "\n",
              "    .dataframe thead th {\n",
              "        text-align: right;\n",
              "    }\n",
              "</style>\n",
              "<table border=\"1\" class=\"dataframe\">\n",
              "  <thead>\n",
              "    <tr style=\"text-align: right;\">\n",
              "      <th></th>\n",
              "      <th>Session_Activity_Count</th>\n",
              "      <th>No_Items_Added_InCart</th>\n",
              "      <th>No_Items_Removed_FromCart</th>\n",
              "      <th>No_Cart_Viewed</th>\n",
              "      <th>No_Checkout_Confirmed</th>\n",
              "      <th>No_Checkout_Initiated</th>\n",
              "      <th>No_Cart_Items_Viewed</th>\n",
              "      <th>No_Customer_Login</th>\n",
              "      <th>No_Page_Viewed</th>\n",
              "    </tr>\n",
              "  </thead>\n",
              "  <tbody>\n",
              "    <tr>\n",
              "      <th>0</th>\n",
              "      <td>1.609438</td>\n",
              "      <td>0.693147</td>\n",
              "      <td>0.0</td>\n",
              "      <td>0.000000</td>\n",
              "      <td>0.000000</td>\n",
              "      <td>0.000000</td>\n",
              "      <td>0.693147</td>\n",
              "      <td>0.0</td>\n",
              "      <td>0.000000</td>\n",
              "    </tr>\n",
              "    <tr>\n",
              "      <th>1</th>\n",
              "      <td>3.663562</td>\n",
              "      <td>0.000000</td>\n",
              "      <td>0.0</td>\n",
              "      <td>1.098612</td>\n",
              "      <td>0.000000</td>\n",
              "      <td>0.000000</td>\n",
              "      <td>1.098612</td>\n",
              "      <td>0.0</td>\n",
              "      <td>1.098612</td>\n",
              "    </tr>\n",
              "    <tr>\n",
              "      <th>2</th>\n",
              "      <td>2.197225</td>\n",
              "      <td>1.791759</td>\n",
              "      <td>0.0</td>\n",
              "      <td>0.000000</td>\n",
              "      <td>0.693147</td>\n",
              "      <td>0.693147</td>\n",
              "      <td>0.693147</td>\n",
              "      <td>0.0</td>\n",
              "      <td>0.000000</td>\n",
              "    </tr>\n",
              "  </tbody>\n",
              "</table>\n",
              "</div>"
            ],
            "text/plain": [
              "   Session_Activity_Count  No_Items_Added_InCart  No_Items_Removed_FromCart  \\\n",
              "0                1.609438               0.693147                        0.0   \n",
              "1                3.663562               0.000000                        0.0   \n",
              "2                2.197225               1.791759                        0.0   \n",
              "\n",
              "   No_Cart_Viewed  No_Checkout_Confirmed  No_Checkout_Initiated   \\\n",
              "0        0.000000               0.000000                0.000000   \n",
              "1        1.098612               0.000000                0.000000   \n",
              "2        0.000000               0.693147                0.693147   \n",
              "\n",
              "   No_Cart_Items_Viewed  No_Customer_Login  No_Page_Viewed  \n",
              "0              0.693147                0.0        0.000000  \n",
              "1              1.098612                0.0        1.098612  \n",
              "2              0.693147                0.0        0.000000  "
            ]
          },
          "execution_count": 39,
          "metadata": {},
          "output_type": "execute_result"
        }
      ],
      "source": [
        "df_scaled_boxcox.head(3)"
      ]
    },
    {
      "cell_type": "code",
      "execution_count": 40,
      "metadata": {
        "id": "Rq9CIjI32K_3"
      },
      "outputs": [],
      "source": [
        "df_scaled_boxcox[\"ID\"]=data.ID\n",
        "df_scaled_boxcox.set_index('ID',inplace=True)\n"
      ]
    },
    {
      "cell_type": "code",
      "execution_count": 41,
      "metadata": {
        "id": "sf08L1qc2K_3",
        "scrolled": true
      },
      "outputs": [],
      "source": [
        "df_scaled_boxcox.reset_index(inplace=True)"
      ]
    },
    {
      "cell_type": "code",
      "execution_count": 42,
      "metadata": {
        "colab": {
          "base_uri": "https://localhost:8080/",
          "height": 162
        },
        "id": "J71sXnRT2K_3",
        "outputId": "1cfc41a5-412d-4c27-e1ca-85c39a8ba7c0"
      },
      "outputs": [
        {
          "data": {
            "text/html": [
              "<div>\n",
              "<style scoped>\n",
              "    .dataframe tbody tr th:only-of-type {\n",
              "        vertical-align: middle;\n",
              "    }\n",
              "\n",
              "    .dataframe tbody tr th {\n",
              "        vertical-align: top;\n",
              "    }\n",
              "\n",
              "    .dataframe thead th {\n",
              "        text-align: right;\n",
              "    }\n",
              "</style>\n",
              "<table border=\"1\" class=\"dataframe\">\n",
              "  <thead>\n",
              "    <tr style=\"text-align: right;\">\n",
              "      <th></th>\n",
              "      <th>ID</th>\n",
              "      <th>Session_Activity_Count</th>\n",
              "      <th>No_Items_Added_InCart</th>\n",
              "      <th>No_Items_Removed_FromCart</th>\n",
              "      <th>No_Cart_Viewed</th>\n",
              "      <th>No_Checkout_Confirmed</th>\n",
              "      <th>No_Checkout_Initiated</th>\n",
              "      <th>No_Cart_Items_Viewed</th>\n",
              "      <th>No_Customer_Login</th>\n",
              "      <th>No_Page_Viewed</th>\n",
              "      <th>Is_Product_Details_viewed</th>\n",
              "      <th>Customer_Segment_Type</th>\n",
              "      <th>Cart_Abandoned</th>\n",
              "    </tr>\n",
              "  </thead>\n",
              "  <tbody>\n",
              "    <tr>\n",
              "      <th>0</th>\n",
              "      <td>Session_ID_0</td>\n",
              "      <td>1.609438</td>\n",
              "      <td>0.693147</td>\n",
              "      <td>0.0</td>\n",
              "      <td>0.000000</td>\n",
              "      <td>0.000000</td>\n",
              "      <td>0.000000</td>\n",
              "      <td>0.693147</td>\n",
              "      <td>0.0</td>\n",
              "      <td>0.000000</td>\n",
              "      <td>Yes</td>\n",
              "      <td>0</td>\n",
              "      <td>1</td>\n",
              "    </tr>\n",
              "    <tr>\n",
              "      <th>1</th>\n",
              "      <td>Session_ID_1</td>\n",
              "      <td>3.663562</td>\n",
              "      <td>0.000000</td>\n",
              "      <td>0.0</td>\n",
              "      <td>1.098612</td>\n",
              "      <td>0.000000</td>\n",
              "      <td>0.000000</td>\n",
              "      <td>1.098612</td>\n",
              "      <td>0.0</td>\n",
              "      <td>1.098612</td>\n",
              "      <td>No</td>\n",
              "      <td>0</td>\n",
              "      <td>1</td>\n",
              "    </tr>\n",
              "    <tr>\n",
              "      <th>2</th>\n",
              "      <td>Session_ID_2</td>\n",
              "      <td>2.197225</td>\n",
              "      <td>1.791759</td>\n",
              "      <td>0.0</td>\n",
              "      <td>0.000000</td>\n",
              "      <td>0.693147</td>\n",
              "      <td>0.693147</td>\n",
              "      <td>0.693147</td>\n",
              "      <td>0.0</td>\n",
              "      <td>0.000000</td>\n",
              "      <td>No</td>\n",
              "      <td>1</td>\n",
              "      <td>0</td>\n",
              "    </tr>\n",
              "  </tbody>\n",
              "</table>\n",
              "</div>"
            ],
            "text/plain": [
              "             ID  Session_Activity_Count  No_Items_Added_InCart  \\\n",
              "0  Session_ID_0                1.609438               0.693147   \n",
              "1  Session_ID_1                3.663562               0.000000   \n",
              "2  Session_ID_2                2.197225               1.791759   \n",
              "\n",
              "   No_Items_Removed_FromCart  No_Cart_Viewed  No_Checkout_Confirmed  \\\n",
              "0                        0.0        0.000000               0.000000   \n",
              "1                        0.0        1.098612               0.000000   \n",
              "2                        0.0        0.000000               0.693147   \n",
              "\n",
              "   No_Checkout_Initiated   No_Cart_Items_Viewed  No_Customer_Login  \\\n",
              "0                0.000000              0.693147                0.0   \n",
              "1                0.000000              1.098612                0.0   \n",
              "2                0.693147              0.693147                0.0   \n",
              "\n",
              "   No_Page_Viewed Is_Product_Details_viewed Customer_Segment_Type  \\\n",
              "0        0.000000                       Yes                     0   \n",
              "1        1.098612                        No                     0   \n",
              "2        0.000000                        No                     1   \n",
              "\n",
              "  Cart_Abandoned  \n",
              "0              1  \n",
              "1              1  \n",
              "2              0  "
            ]
          },
          "execution_count": 42,
          "metadata": {},
          "output_type": "execute_result"
        }
      ],
      "source": [
        "df_final=df_scaled_boxcox.join(cat)\n",
        "df_final.head(3)"
      ]
    },
    {
      "cell_type": "code",
      "execution_count": 43,
      "metadata": {
        "colab": {
          "base_uri": "https://localhost:8080/",
          "height": 162
        },
        "id": "n8ONWkkC2K_4",
        "outputId": "ad9d8c3f-208a-4d7b-8739-19c5796b288d"
      },
      "outputs": [
        {
          "data": {
            "text/html": [
              "<div>\n",
              "<style scoped>\n",
              "    .dataframe tbody tr th:only-of-type {\n",
              "        vertical-align: middle;\n",
              "    }\n",
              "\n",
              "    .dataframe tbody tr th {\n",
              "        vertical-align: top;\n",
              "    }\n",
              "\n",
              "    .dataframe thead th {\n",
              "        text-align: right;\n",
              "    }\n",
              "</style>\n",
              "<table border=\"1\" class=\"dataframe\">\n",
              "  <thead>\n",
              "    <tr style=\"text-align: right;\">\n",
              "      <th></th>\n",
              "      <th>ID</th>\n",
              "      <th>Session_Activity_Count</th>\n",
              "      <th>No_Items_Added_InCart</th>\n",
              "      <th>No_Items_Removed_FromCart</th>\n",
              "      <th>No_Cart_Viewed</th>\n",
              "      <th>No_Checkout_Confirmed</th>\n",
              "      <th>No_Checkout_Initiated</th>\n",
              "      <th>No_Cart_Items_Viewed</th>\n",
              "      <th>No_Customer_Login</th>\n",
              "      <th>No_Page_Viewed</th>\n",
              "      <th>Is_Product_Details_viewed</th>\n",
              "      <th>Customer_Segment_Type</th>\n",
              "      <th>Cart_Abandoned</th>\n",
              "    </tr>\n",
              "  </thead>\n",
              "  <tbody>\n",
              "    <tr>\n",
              "      <th>0</th>\n",
              "      <td>Session_ID_0</td>\n",
              "      <td>1.609438</td>\n",
              "      <td>0.693147</td>\n",
              "      <td>0.0</td>\n",
              "      <td>0.000000</td>\n",
              "      <td>0.000000</td>\n",
              "      <td>0.000000</td>\n",
              "      <td>0.693147</td>\n",
              "      <td>0.0</td>\n",
              "      <td>0.000000</td>\n",
              "      <td>1</td>\n",
              "      <td>0</td>\n",
              "      <td>1</td>\n",
              "    </tr>\n",
              "    <tr>\n",
              "      <th>1</th>\n",
              "      <td>Session_ID_1</td>\n",
              "      <td>3.663562</td>\n",
              "      <td>0.000000</td>\n",
              "      <td>0.0</td>\n",
              "      <td>1.098612</td>\n",
              "      <td>0.000000</td>\n",
              "      <td>0.000000</td>\n",
              "      <td>1.098612</td>\n",
              "      <td>0.0</td>\n",
              "      <td>1.098612</td>\n",
              "      <td>0</td>\n",
              "      <td>0</td>\n",
              "      <td>1</td>\n",
              "    </tr>\n",
              "    <tr>\n",
              "      <th>2</th>\n",
              "      <td>Session_ID_2</td>\n",
              "      <td>2.197225</td>\n",
              "      <td>1.791759</td>\n",
              "      <td>0.0</td>\n",
              "      <td>0.000000</td>\n",
              "      <td>0.693147</td>\n",
              "      <td>0.693147</td>\n",
              "      <td>0.693147</td>\n",
              "      <td>0.0</td>\n",
              "      <td>0.000000</td>\n",
              "      <td>0</td>\n",
              "      <td>1</td>\n",
              "      <td>0</td>\n",
              "    </tr>\n",
              "  </tbody>\n",
              "</table>\n",
              "</div>"
            ],
            "text/plain": [
              "             ID  Session_Activity_Count  No_Items_Added_InCart  \\\n",
              "0  Session_ID_0                1.609438               0.693147   \n",
              "1  Session_ID_1                3.663562               0.000000   \n",
              "2  Session_ID_2                2.197225               1.791759   \n",
              "\n",
              "   No_Items_Removed_FromCart  No_Cart_Viewed  No_Checkout_Confirmed  \\\n",
              "0                        0.0        0.000000               0.000000   \n",
              "1                        0.0        1.098612               0.000000   \n",
              "2                        0.0        0.000000               0.693147   \n",
              "\n",
              "   No_Checkout_Initiated   No_Cart_Items_Viewed  No_Customer_Login  \\\n",
              "0                0.000000              0.693147                0.0   \n",
              "1                0.000000              1.098612                0.0   \n",
              "2                0.693147              0.693147                0.0   \n",
              "\n",
              "   No_Page_Viewed  Is_Product_Details_viewed Customer_Segment_Type  \\\n",
              "0        0.000000                          1                     0   \n",
              "1        1.098612                          0                     0   \n",
              "2        0.000000                          0                     1   \n",
              "\n",
              "  Cart_Abandoned  \n",
              "0              1  \n",
              "1              1  \n",
              "2              0  "
            ]
          },
          "execution_count": 43,
          "metadata": {},
          "output_type": "execute_result"
        }
      ],
      "source": [
        "df_final.Is_Product_Details_viewed.replace({\"Yes\":1,\"No\":0},inplace=True)\n",
        "df_final.head(3)"
      ]
    },
    {
      "cell_type": "code",
      "execution_count": 44,
      "metadata": {
        "colab": {
          "base_uri": "https://localhost:8080/"
        },
        "id": "bDsFhWvK2K_4",
        "outputId": "e1fcf820-5e16-4ac7-e346-00775e49d0b6"
      },
      "outputs": [
        {
          "data": {
            "text/plain": [
              "ID                             object\n",
              "Session_Activity_Count        float64\n",
              "No_Items_Added_InCart         float64\n",
              "No_Items_Removed_FromCart     float64\n",
              "No_Cart_Viewed                float64\n",
              "No_Checkout_Confirmed         float64\n",
              "No_Checkout_Initiated         float64\n",
              "No_Cart_Items_Viewed          float64\n",
              "No_Customer_Login             float64\n",
              "No_Page_Viewed                float64\n",
              "Is_Product_Details_viewed       int64\n",
              "Customer_Segment_Type        category\n",
              "Cart_Abandoned               category\n",
              "dtype: object"
            ]
          },
          "execution_count": 44,
          "metadata": {},
          "output_type": "execute_result"
        }
      ],
      "source": [
        "df_final.dtypes"
      ]
    },
    {
      "cell_type": "code",
      "execution_count": 45,
      "metadata": {
        "id": "6RtIobwK2K_5"
      },
      "outputs": [],
      "source": [
        "df_final.Is_Product_Details_viewed=pd.Categorical(df_final.Is_Product_Details_viewed)"
      ]
    },
    {
      "cell_type": "markdown",
      "metadata": {
        "id": "-A6WCu1Z2K_5"
      },
      "source": [
        "### Feature Selection"
      ]
    },
    {
      "cell_type": "markdown",
      "metadata": {
        "id": "dK-fm_rw2K_6"
      },
      "source": [
        "###### 1. By RFE"
      ]
    },
    {
      "cell_type": "code",
      "execution_count": 46,
      "metadata": {
        "colab": {
          "base_uri": "https://localhost:8080/"
        },
        "id": "4pt83whD2K_6",
        "outputId": "172cb6ea-29fa-4993-8097-c0c0f424b795"
      },
      "outputs": [
        {
          "data": {
            "text/plain": [
              "(4284, 11)"
            ]
          },
          "execution_count": 46,
          "metadata": {},
          "output_type": "execute_result"
        }
      ],
      "source": [
        "X=df_final.iloc[:,1:12]\n",
        "X.shape"
      ]
    },
    {
      "cell_type": "code",
      "execution_count": 47,
      "metadata": {
        "colab": {
          "base_uri": "https://localhost:8080/",
          "height": 35
        },
        "id": "BYHCIyIW2K_6",
        "outputId": "dacac080-b4bd-4c42-97b2-ac6aec5bf539"
      },
      "outputs": [
        {
          "data": {
            "text/plain": [
              "'Cart_Abandoned'"
            ]
          },
          "execution_count": 47,
          "metadata": {},
          "output_type": "execute_result"
        }
      ],
      "source": [
        "y=df_final[\"Cart_Abandoned\"]\n",
        "y.name"
      ]
    },
    {
      "cell_type": "code",
      "execution_count": 48,
      "metadata": {
        "colab": {
          "base_uri": "https://localhost:8080/"
        },
        "id": "y30XIs_r2K_7",
        "outputId": "a3154f94-cdd0-4d4c-b847-8f9014108434"
      },
      "outputs": [
        {
          "name": "stdout",
          "output_type": "stream",
          "text": [
            "Fitting estimator with 11 features.\n",
            "Fitting estimator with 10 features.\n",
            "Fitting estimator with 9 features.\n",
            "Fitting estimator with 8 features.\n",
            "Num Features: 7\n",
            "Selected Features: [ True False False  True  True  True False  True  True  True False]\n",
            "Feature Ranking: [1 2 4 1 1 1 5 1 1 1 3]\n"
          ]
        }
      ],
      "source": [
        "lr = LogisticRegression()\n",
        "lr.fit(X,y)\n",
        "#stop the search when only the last feature is left\n",
        "rfe = RFE(lr, n_features_to_select=7, verbose = 3 )\n",
        "fit=rfe.fit(X,y)\n",
        "print(\"Num Features: %d\"% fit.n_features_) \n",
        "print(\"Selected Features: %s\"% fit.support_) \n",
        "print(\"Feature Ranking: %s\"% fit.ranking_)\n",
        "\n"
      ]
    },
    {
      "cell_type": "code",
      "execution_count": 49,
      "metadata": {
        "id": "O4eo4IQL2K_8"
      },
      "outputs": [],
      "source": [
        "l = [i for i,x in enumerate(list(fit.support_)) if x == True]"
      ]
    },
    {
      "cell_type": "code",
      "execution_count": 50,
      "metadata": {
        "colab": {
          "base_uri": "https://localhost:8080/"
        },
        "id": "h-TDNjYe2K_8",
        "outputId": "7ea675bb-0752-4114-bae1-dd4ca2266684"
      },
      "outputs": [
        {
          "data": {
            "text/plain": [
              "Index(['Session_Activity_Count', 'No_Items_Added_InCart',\n",
              "       'No_Items_Removed_FromCart', 'No_Cart_Viewed', 'No_Checkout_Confirmed',\n",
              "       'No_Checkout_Initiated ', 'No_Cart_Items_Viewed', 'No_Customer_Login',\n",
              "       'No_Page_Viewed', 'Is_Product_Details_viewed', 'Customer_Segment_Type'],\n",
              "      dtype='object')"
            ]
          },
          "execution_count": 50,
          "metadata": {},
          "output_type": "execute_result"
        }
      ],
      "source": [
        "X.columns"
      ]
    },
    {
      "cell_type": "code",
      "execution_count": 51,
      "metadata": {
        "id": "iFMtYn6R2K_8"
      },
      "outputs": [],
      "source": [
        "feature_selected = [X[X.columns[l[i]]].name for i,x in enumerate(l)]"
      ]
    },
    {
      "cell_type": "code",
      "execution_count": 52,
      "metadata": {
        "colab": {
          "base_uri": "https://localhost:8080/"
        },
        "id": "PflNSu-M2K_9",
        "outputId": "5afe7372-ef65-4e07-8071-c721b850c41d"
      },
      "outputs": [
        {
          "data": {
            "text/plain": [
              "['Session_Activity_Count',\n",
              " 'No_Cart_Viewed',\n",
              " 'No_Checkout_Confirmed',\n",
              " 'No_Checkout_Initiated ',\n",
              " 'No_Customer_Login',\n",
              " 'No_Page_Viewed',\n",
              " 'Is_Product_Details_viewed']"
            ]
          },
          "execution_count": 52,
          "metadata": {},
          "output_type": "execute_result"
        }
      ],
      "source": [
        "feature_selected"
      ]
    },
    {
      "cell_type": "markdown",
      "metadata": {
        "id": "FmbFtnA12K_9"
      },
      "source": [
        "###### 2.By Random Forest Classifier"
      ]
    },
    {
      "cell_type": "code",
      "execution_count": 53,
      "metadata": {
        "id": "CYqpaEsg2K_-"
      },
      "outputs": [],
      "source": [
        "# Create a random forest classifier\n",
        "clf = RandomForestClassifier(n_estimators=10000, random_state=0, n_jobs=-1)\n",
        "\n",
        "# Train the classifier\n",
        "clf.fit(X, y)\n",
        "feature_weightage_dict = dict()\n",
        "# Print the name and gini importance of each feature\n",
        "for feature in zip(X.columns, clf.feature_importances_):\n",
        "    feature_weightage_dict.update({feature[0]:feature[1]})"
      ]
    },
    {
      "cell_type": "code",
      "execution_count": 54,
      "metadata": {
        "colab": {
          "base_uri": "https://localhost:8080/"
        },
        "id": "s3TK3Aj92K_-",
        "outputId": "249f4f09-bb0e-4aa0-ba96-be2ba641e718"
      },
      "outputs": [
        {
          "data": {
            "text/plain": [
              "{'Session_Activity_Count': 0.05052857005529642,\n",
              " 'No_Items_Added_InCart': 0.025547984898027527,\n",
              " 'No_Items_Removed_FromCart': 0.010172300692196705,\n",
              " 'No_Cart_Viewed': 0.017810335296951977,\n",
              " 'No_Checkout_Confirmed': 0.7341868777064404,\n",
              " 'No_Checkout_Initiated ': 0.0441808380652188,\n",
              " 'No_Cart_Items_Viewed': 0.018703955749515146,\n",
              " 'No_Customer_Login': 0.05604221107820115,\n",
              " 'No_Page_Viewed': 0.027120211503535017,\n",
              " 'Is_Product_Details_viewed': 0.009764913736069736,\n",
              " 'Customer_Segment_Type': 0.0059418012185472185}"
            ]
          },
          "execution_count": 54,
          "metadata": {},
          "output_type": "execute_result"
        }
      ],
      "source": [
        "feature_weightage_dict"
      ]
    },
    {
      "cell_type": "code",
      "execution_count": 55,
      "metadata": {
        "id": "krN3y9772K__"
      },
      "outputs": [],
      "source": [
        "sorted_feature_weightage_dict = sorted(feature_weightage_dict.items(), key=lambda kv: kv[1], reverse = True)"
      ]
    },
    {
      "cell_type": "code",
      "execution_count": 56,
      "metadata": {
        "colab": {
          "base_uri": "https://localhost:8080/"
        },
        "id": "qEK-HcQt2K__",
        "outputId": "ea07992d-3dc4-43a0-de95-4f72839a5df9"
      },
      "outputs": [
        {
          "data": {
            "text/plain": [
              "[('No_Checkout_Confirmed', 0.7341868777064404),\n",
              " ('No_Customer_Login', 0.05604221107820115),\n",
              " ('Session_Activity_Count', 0.05052857005529642),\n",
              " ('No_Checkout_Initiated ', 0.0441808380652188),\n",
              " ('No_Page_Viewed', 0.027120211503535017),\n",
              " ('No_Items_Added_InCart', 0.025547984898027527),\n",
              " ('No_Cart_Items_Viewed', 0.018703955749515146),\n",
              " ('No_Cart_Viewed', 0.017810335296951977),\n",
              " ('No_Items_Removed_FromCart', 0.010172300692196705),\n",
              " ('Is_Product_Details_viewed', 0.009764913736069736),\n",
              " ('Customer_Segment_Type', 0.0059418012185472185)]"
            ]
          },
          "execution_count": 56,
          "metadata": {},
          "output_type": "execute_result"
        }
      ],
      "source": [
        "sorted_feature_weightage_dict"
      ]
    },
    {
      "cell_type": "code",
      "execution_count": 57,
      "metadata": {
        "colab": {
          "base_uri": "https://localhost:8080/"
        },
        "id": "w4GcycTT2LAA",
        "outputId": "4e04cb92-54e1-477b-a3f6-cdc476cefc8a"
      },
      "outputs": [
        {
          "data": {
            "text/plain": [
              "Index(['ID', 'Session_Activity_Count', 'No_Items_Added_InCart',\n",
              "       'No_Items_Removed_FromCart', 'No_Cart_Viewed', 'No_Checkout_Confirmed',\n",
              "       'No_Checkout_Initiated ', 'No_Cart_Items_Viewed', 'No_Customer_Login',\n",
              "       'No_Page_Viewed', 'Is_Product_Details_viewed', 'Customer_Segment_Type',\n",
              "       'Cart_Abandoned'],\n",
              "      dtype='object')"
            ]
          },
          "execution_count": 57,
          "metadata": {},
          "output_type": "execute_result"
        }
      ],
      "source": [
        "df_final.columns"
      ]
    },
    {
      "cell_type": "markdown",
      "metadata": {
        "id": "wHAn-As62LAA"
      },
      "source": [
        "#### Part 2: What are the important factors related to cart abandonment?\n",
        "Now comparing both the models we can see the No_Items_Added_InCart, No_Checkout_Confirmed, No_Checkout_Initiated, No_Customer_Login and No_Page_Viewed has the higher feature importance. So we will only consider these features to train our model."
      ]
    },
    {
      "cell_type": "markdown",
      "metadata": {
        "id": "6Q-xEhjm2LAB"
      },
      "source": [
        "### Train-Validation Split"
      ]
    },
    {
      "cell_type": "code",
      "execution_count": 58,
      "metadata": {
        "id": "okjfaPpV2LAD"
      },
      "outputs": [],
      "source": [
        "X = df_final.iloc[:,[5,6,8,9,2]]\n",
        "y = df_final.loc[:,[\"Cart_Abandoned\"]]\n",
        "X_train, X_test, y_train, y_test = train_test_split(X, y, test_size=0.40, random_state=0)\n"
      ]
    },
    {
      "cell_type": "markdown",
      "metadata": {
        "id": "i_4olKn42LAD"
      },
      "source": [
        "### Over-Sampling Using SMOTE"
      ]
    },
    {
      "cell_type": "code",
      "execution_count": 59,
      "metadata": {
        "colab": {
          "base_uri": "https://localhost:8080/"
        },
        "id": "PXWNoTXU2LAE",
        "outputId": "c6f7569f-845b-4ae3-e749-cf7103e1a499"
      },
      "outputs": [],
      "source": [
        "# sm = SMOTE(random_state=2,k_neighbors=5)\n",
        "# X_train, y_train =sm.fit_sample(X_train,y_train)\n"
      ]
    },
    {
      "cell_type": "markdown",
      "metadata": {
        "id": "4XqsbFVk2LAE"
      },
      "source": [
        "###### Train-Validation Split after SMOTE"
      ]
    },
    {
      "cell_type": "code",
      "execution_count": 60,
      "metadata": {
        "id": "_WbUCsjy2LAF"
      },
      "outputs": [],
      "source": [
        "X_train_new, X_test_new, y_train_new, y_test_new = train_test_split(X_train, y_train, test_size=0.40, random_state=0)"
      ]
    },
    {
      "cell_type": "markdown",
      "metadata": {
        "id": "E5AP2nZ52LAG"
      },
      "source": [
        "## 4. Model Builiding And Prediction"
      ]
    },
    {
      "cell_type": "markdown",
      "metadata": {
        "id": "NYkOyu7e2LAG"
      },
      "source": [
        "#### Part 3: How can we able to know whether a customer will do abandonment or not in future?"
      ]
    },
    {
      "cell_type": "code",
      "execution_count": 61,
      "metadata": {
        "id": "AZJ7c_cn2LAH"
      },
      "outputs": [
        {
          "name": "stderr",
          "output_type": "stream",
          "text": [
            "c:\\Python312\\Lib\\site-packages\\sklearn\\utils\\validation.py:1183: DataConversionWarning: A column-vector y was passed when a 1d array was expected. Please change the shape of y to (n_samples, ), for example using ravel().\n",
            "  y = column_or_1d(y, warn=True)\n"
          ]
        }
      ],
      "source": [
        "lr1 = LogisticRegression()\n",
        "\n",
        "lr1.fit(X_train_new.values,y_train_new.values)\n",
        "\n",
        "\n",
        "\n",
        "y_pred_new = lr1.predict(X_test_new.values)  #### For SMOTE validation samples\n",
        "y_pred=lr1.predict(X_test.values)##### For actual validation samples\n",
        "# X_test"
      ]
    },
    {
      "cell_type": "markdown",
      "metadata": {
        "id": "vFQ5eEvZ2LAH"
      },
      "source": [
        "## 5. Evaluation"
      ]
    },
    {
      "cell_type": "code",
      "execution_count": 62,
      "metadata": {
        "colab": {
          "base_uri": "https://localhost:8080/"
        },
        "id": "ydxnjy9S2LAH",
        "outputId": "ef96d30e-0c56-432a-d3cd-d4b2f42254f4"
      },
      "outputs": [
        {
          "name": "stdout",
          "output_type": "stream",
          "text": [
            " accuracy is 0.978\n",
            " Kappa is 0.922093\n"
          ]
        }
      ],
      "source": [
        "print(\" accuracy is %2.3f\" % accuracy_score(y_test_new, y_pred_new))\n",
        "print(\" Kappa is %f\" %cohen_kappa_score(y_test_new, y_pred_new))\n"
      ]
    },
    {
      "cell_type": "code",
      "execution_count": 63,
      "metadata": {
        "colab": {
          "base_uri": "https://localhost:8080/"
        },
        "id": "N0mx1uzj2LAI",
        "outputId": "28070090-73e8-4f53-cf4d-2280c08c1312"
      },
      "outputs": [
        {
          "name": "stdout",
          "output_type": "stream",
          "text": [
            " accuracy is 0.984\n",
            " Kappa is 0.936154\n"
          ]
        }
      ],
      "source": [
        "print(\" accuracy is %2.3f\" % accuracy_score(y_test, y_pred))\n",
        "print(\" Kappa is %f\" %cohen_kappa_score(y_test, y_pred))\n"
      ]
    },
    {
      "cell_type": "code",
      "execution_count": 64,
      "metadata": {},
      "outputs": [
        {
          "data": {
            "text/plain": [
              "5"
            ]
          },
          "execution_count": 64,
          "metadata": {},
          "output_type": "execute_result"
        }
      ],
      "source": [
        "\n",
        "len(X_test.axes[1]) "
      ]
    },
    {
      "cell_type": "code",
      "execution_count": 65,
      "metadata": {},
      "outputs": [
        {
          "data": {
            "text/html": [
              "<div>\n",
              "<style scoped>\n",
              "    .dataframe tbody tr th:only-of-type {\n",
              "        vertical-align: middle;\n",
              "    }\n",
              "\n",
              "    .dataframe tbody tr th {\n",
              "        vertical-align: top;\n",
              "    }\n",
              "\n",
              "    .dataframe thead th {\n",
              "        text-align: right;\n",
              "    }\n",
              "</style>\n",
              "<table border=\"1\" class=\"dataframe\">\n",
              "  <thead>\n",
              "    <tr style=\"text-align: right;\">\n",
              "      <th></th>\n",
              "      <th>No_Checkout_Confirmed</th>\n",
              "      <th>No_Checkout_Initiated</th>\n",
              "      <th>No_Customer_Login</th>\n",
              "      <th>No_Page_Viewed</th>\n",
              "      <th>No_Items_Added_InCart</th>\n",
              "    </tr>\n",
              "  </thead>\n",
              "  <tbody>\n",
              "    <tr>\n",
              "      <th>1165</th>\n",
              "      <td>0.000000</td>\n",
              "      <td>0.000000</td>\n",
              "      <td>0.000000</td>\n",
              "      <td>1.945910</td>\n",
              "      <td>0.000000</td>\n",
              "    </tr>\n",
              "    <tr>\n",
              "      <th>146</th>\n",
              "      <td>0.000000</td>\n",
              "      <td>0.693147</td>\n",
              "      <td>0.000000</td>\n",
              "      <td>1.098612</td>\n",
              "      <td>1.609438</td>\n",
              "    </tr>\n",
              "    <tr>\n",
              "      <th>321</th>\n",
              "      <td>0.000000</td>\n",
              "      <td>0.693147</td>\n",
              "      <td>0.000000</td>\n",
              "      <td>0.000000</td>\n",
              "      <td>0.693147</td>\n",
              "    </tr>\n",
              "    <tr>\n",
              "      <th>2139</th>\n",
              "      <td>0.693147</td>\n",
              "      <td>1.098612</td>\n",
              "      <td>0.000000</td>\n",
              "      <td>0.000000</td>\n",
              "      <td>0.693147</td>\n",
              "    </tr>\n",
              "    <tr>\n",
              "      <th>3230</th>\n",
              "      <td>0.000000</td>\n",
              "      <td>0.000000</td>\n",
              "      <td>0.000000</td>\n",
              "      <td>0.000000</td>\n",
              "      <td>0.693147</td>\n",
              "    </tr>\n",
              "    <tr>\n",
              "      <th>...</th>\n",
              "      <td>...</td>\n",
              "      <td>...</td>\n",
              "      <td>...</td>\n",
              "      <td>...</td>\n",
              "      <td>...</td>\n",
              "    </tr>\n",
              "    <tr>\n",
              "      <th>490</th>\n",
              "      <td>0.000000</td>\n",
              "      <td>0.693147</td>\n",
              "      <td>0.000000</td>\n",
              "      <td>1.098612</td>\n",
              "      <td>0.693147</td>\n",
              "    </tr>\n",
              "    <tr>\n",
              "      <th>51</th>\n",
              "      <td>0.000000</td>\n",
              "      <td>0.693147</td>\n",
              "      <td>0.693147</td>\n",
              "      <td>1.098612</td>\n",
              "      <td>1.791759</td>\n",
              "    </tr>\n",
              "    <tr>\n",
              "      <th>590</th>\n",
              "      <td>0.000000</td>\n",
              "      <td>0.000000</td>\n",
              "      <td>0.000000</td>\n",
              "      <td>0.693147</td>\n",
              "      <td>0.000000</td>\n",
              "    </tr>\n",
              "    <tr>\n",
              "      <th>2582</th>\n",
              "      <td>0.000000</td>\n",
              "      <td>1.098612</td>\n",
              "      <td>0.000000</td>\n",
              "      <td>0.693147</td>\n",
              "      <td>2.833213</td>\n",
              "    </tr>\n",
              "    <tr>\n",
              "      <th>393</th>\n",
              "      <td>0.000000</td>\n",
              "      <td>0.000000</td>\n",
              "      <td>0.000000</td>\n",
              "      <td>0.693147</td>\n",
              "      <td>1.945910</td>\n",
              "    </tr>\n",
              "  </tbody>\n",
              "</table>\n",
              "<p>1028 rows × 5 columns</p>\n",
              "</div>"
            ],
            "text/plain": [
              "      No_Checkout_Confirmed  No_Checkout_Initiated   No_Customer_Login  \\\n",
              "1165               0.000000                0.000000           0.000000   \n",
              "146                0.000000                0.693147           0.000000   \n",
              "321                0.000000                0.693147           0.000000   \n",
              "2139               0.693147                1.098612           0.000000   \n",
              "3230               0.000000                0.000000           0.000000   \n",
              "...                     ...                     ...                ...   \n",
              "490                0.000000                0.693147           0.000000   \n",
              "51                 0.000000                0.693147           0.693147   \n",
              "590                0.000000                0.000000           0.000000   \n",
              "2582               0.000000                1.098612           0.000000   \n",
              "393                0.000000                0.000000           0.000000   \n",
              "\n",
              "      No_Page_Viewed  No_Items_Added_InCart  \n",
              "1165        1.945910               0.000000  \n",
              "146         1.098612               1.609438  \n",
              "321         0.000000               0.693147  \n",
              "2139        0.000000               0.693147  \n",
              "3230        0.000000               0.693147  \n",
              "...              ...                    ...  \n",
              "490         1.098612               0.693147  \n",
              "51          1.098612               1.791759  \n",
              "590         0.693147               0.000000  \n",
              "2582        0.693147               2.833213  \n",
              "393         0.693147               1.945910  \n",
              "\n",
              "[1028 rows x 5 columns]"
            ]
          },
          "execution_count": 65,
          "metadata": {},
          "output_type": "execute_result"
        }
      ],
      "source": [
        "X_test_new"
      ]
    },
    {
      "cell_type": "code",
      "execution_count": 66,
      "metadata": {},
      "outputs": [
        {
          "data": {
            "text/plain": [
              "(1714, 5)"
            ]
          },
          "execution_count": 66,
          "metadata": {},
          "output_type": "execute_result"
        }
      ],
      "source": [
        "X_test.shape"
      ]
    },
    {
      "cell_type": "markdown",
      "metadata": {
        "id": "Je7ZK7d-2LAI"
      },
      "source": [
        "### Dump model to pickle file"
      ]
    },
    {
      "cell_type": "code",
      "execution_count": 67,
      "metadata": {
        "colab": {
          "base_uri": "https://localhost:8080/"
        },
        "id": "_9D8LVMC2LAJ",
        "outputId": "77e17d52-6b13-4553-e96e-007352a4a544"
      },
      "outputs": [
        {
          "data": {
            "text/plain": [
              "array([1, 1, 1, ..., 0, 1, 1], dtype=int64)"
            ]
          },
          "execution_count": 67,
          "metadata": {},
          "output_type": "execute_result"
        }
      ],
      "source": [
        "lr1.predict(X_test.values)"
      ]
    },
    {
      "cell_type": "code",
      "execution_count": 68,
      "metadata": {},
      "outputs": [],
      "source": [
        "# pkl_out = open(\"model2.pkl\",\"wb\")\n",
        "# pkl.dump(lr1,pkl_out)"
      ]
    },
    {
      "cell_type": "code",
      "execution_count": 69,
      "metadata": {},
      "outputs": [],
      "source": [
        "import pickle\n",
        "pickle.dump(lr1,open('model.pkl','wb'))\n",
        "model=pickle.load(open('model.pkl','rb'))\n",
        "# pickle.dump(ytrain,open('test.pkl','wb'))"
      ]
    },
    {
      "cell_type": "code",
      "execution_count": 70,
      "metadata": {},
      "outputs": [
        {
          "data": {
            "text/html": [
              "<div>\n",
              "<style scoped>\n",
              "    .dataframe tbody tr th:only-of-type {\n",
              "        vertical-align: middle;\n",
              "    }\n",
              "\n",
              "    .dataframe tbody tr th {\n",
              "        vertical-align: top;\n",
              "    }\n",
              "\n",
              "    .dataframe thead th {\n",
              "        text-align: right;\n",
              "    }\n",
              "</style>\n",
              "<table border=\"1\" class=\"dataframe\">\n",
              "  <thead>\n",
              "    <tr style=\"text-align: right;\">\n",
              "      <th></th>\n",
              "      <th>No_Checkout_Confirmed</th>\n",
              "      <th>No_Checkout_Initiated</th>\n",
              "      <th>No_Customer_Login</th>\n",
              "      <th>No_Page_Viewed</th>\n",
              "      <th>No_Items_Added_InCart</th>\n",
              "    </tr>\n",
              "  </thead>\n",
              "  <tbody>\n",
              "    <tr>\n",
              "      <th>794</th>\n",
              "      <td>0.000000</td>\n",
              "      <td>0.693147</td>\n",
              "      <td>0.0</td>\n",
              "      <td>1.098612</td>\n",
              "      <td>0.693147</td>\n",
              "    </tr>\n",
              "    <tr>\n",
              "      <th>485</th>\n",
              "      <td>0.000000</td>\n",
              "      <td>1.098612</td>\n",
              "      <td>0.0</td>\n",
              "      <td>1.098612</td>\n",
              "      <td>0.693147</td>\n",
              "    </tr>\n",
              "    <tr>\n",
              "      <th>3235</th>\n",
              "      <td>0.000000</td>\n",
              "      <td>0.000000</td>\n",
              "      <td>0.0</td>\n",
              "      <td>0.693147</td>\n",
              "      <td>1.386294</td>\n",
              "    </tr>\n",
              "    <tr>\n",
              "      <th>3609</th>\n",
              "      <td>0.000000</td>\n",
              "      <td>1.386294</td>\n",
              "      <td>0.0</td>\n",
              "      <td>0.000000</td>\n",
              "      <td>0.000000</td>\n",
              "    </tr>\n",
              "    <tr>\n",
              "      <th>683</th>\n",
              "      <td>0.000000</td>\n",
              "      <td>0.693147</td>\n",
              "      <td>0.0</td>\n",
              "      <td>1.098612</td>\n",
              "      <td>1.098612</td>\n",
              "    </tr>\n",
              "    <tr>\n",
              "      <th>...</th>\n",
              "      <td>...</td>\n",
              "      <td>...</td>\n",
              "      <td>...</td>\n",
              "      <td>...</td>\n",
              "      <td>...</td>\n",
              "    </tr>\n",
              "    <tr>\n",
              "      <th>1355</th>\n",
              "      <td>0.000000</td>\n",
              "      <td>0.693147</td>\n",
              "      <td>0.0</td>\n",
              "      <td>1.098612</td>\n",
              "      <td>0.693147</td>\n",
              "    </tr>\n",
              "    <tr>\n",
              "      <th>850</th>\n",
              "      <td>0.000000</td>\n",
              "      <td>0.693147</td>\n",
              "      <td>0.0</td>\n",
              "      <td>1.098612</td>\n",
              "      <td>0.000000</td>\n",
              "    </tr>\n",
              "    <tr>\n",
              "      <th>1462</th>\n",
              "      <td>1.609438</td>\n",
              "      <td>2.197225</td>\n",
              "      <td>0.0</td>\n",
              "      <td>1.098612</td>\n",
              "      <td>1.098612</td>\n",
              "    </tr>\n",
              "    <tr>\n",
              "      <th>135</th>\n",
              "      <td>0.000000</td>\n",
              "      <td>0.693147</td>\n",
              "      <td>0.0</td>\n",
              "      <td>1.791759</td>\n",
              "      <td>0.000000</td>\n",
              "    </tr>\n",
              "    <tr>\n",
              "      <th>2597</th>\n",
              "      <td>0.000000</td>\n",
              "      <td>0.693147</td>\n",
              "      <td>0.0</td>\n",
              "      <td>1.609438</td>\n",
              "      <td>0.000000</td>\n",
              "    </tr>\n",
              "  </tbody>\n",
              "</table>\n",
              "<p>1714 rows × 5 columns</p>\n",
              "</div>"
            ],
            "text/plain": [
              "      No_Checkout_Confirmed  No_Checkout_Initiated   No_Customer_Login  \\\n",
              "794                0.000000                0.693147                0.0   \n",
              "485                0.000000                1.098612                0.0   \n",
              "3235               0.000000                0.000000                0.0   \n",
              "3609               0.000000                1.386294                0.0   \n",
              "683                0.000000                0.693147                0.0   \n",
              "...                     ...                     ...                ...   \n",
              "1355               0.000000                0.693147                0.0   \n",
              "850                0.000000                0.693147                0.0   \n",
              "1462               1.609438                2.197225                0.0   \n",
              "135                0.000000                0.693147                0.0   \n",
              "2597               0.000000                0.693147                0.0   \n",
              "\n",
              "      No_Page_Viewed  No_Items_Added_InCart  \n",
              "794         1.098612               0.693147  \n",
              "485         1.098612               0.693147  \n",
              "3235        0.693147               1.386294  \n",
              "3609        0.000000               0.000000  \n",
              "683         1.098612               1.098612  \n",
              "...              ...                    ...  \n",
              "1355        1.098612               0.693147  \n",
              "850         1.098612               0.000000  \n",
              "1462        1.098612               1.098612  \n",
              "135         1.791759               0.000000  \n",
              "2597        1.609438               0.000000  \n",
              "\n",
              "[1714 rows x 5 columns]"
            ]
          },
          "execution_count": 70,
          "metadata": {},
          "output_type": "execute_result"
        }
      ],
      "source": [
        "X_test"
      ]
    },
    {
      "cell_type": "code",
      "execution_count": 71,
      "metadata": {},
      "outputs": [
        {
          "data": {
            "text/plain": [
              "array([1, 1, 1, ..., 1, 1, 1], dtype=int64)"
            ]
          },
          "execution_count": 71,
          "metadata": {},
          "output_type": "execute_result"
        }
      ],
      "source": [
        "model.predict(X_test_new.values)"
      ]
    },
    {
      "cell_type": "code",
      "execution_count": 72,
      "metadata": {
        "id": "Zo3vevlq2LAJ",
        "scrolled": true
      },
      "outputs": [],
      "source": [
        "# pkl_out = open(\"train_classifier.pkl\",\"wb\")\n",
        "# pkl.dump(lr1,pkl_out)\n",
        "pickle.dump(y_train_new.values,open('test.pkl','wb'))"
      ]
    },
    {
      "cell_type": "markdown",
      "metadata": {
        "id": "sB89jS5M2LAJ"
      },
      "source": [
        "## 6. Conclusion\n",
        "By using this analysis we can predict whether a customer will do abandonment or not in the future. So that we can able to give them some offers so that they able to complete the checkout successfully."
      ]
    }
  ],
  "metadata": {
    "colab": {
      "include_colab_link": true,
      "name": "cart_abandonment.ipynb",
      "provenance": [],
      "toc_visible": true
    },
    "kernelspec": {
      "display_name": "Python 3",
      "language": "python",
      "name": "python3"
    },
    "language_info": {
      "codemirror_mode": {
        "name": "ipython",
        "version": 3
      },
      "file_extension": ".py",
      "mimetype": "text/x-python",
      "name": "python",
      "nbconvert_exporter": "python",
      "pygments_lexer": "ipython3",
      "version": "3.12.0"
    }
  },
  "nbformat": 4,
  "nbformat_minor": 0
}
